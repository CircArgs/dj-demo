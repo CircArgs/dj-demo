{
 "cells": [
  {
   "cell_type": "markdown",
   "id": "1e59e4df",
   "metadata": {},
   "source": [
    "# Modeling the Roads Example Database"
   ]
  },
  {
   "cell_type": "markdown",
   "id": "0df819ea",
   "metadata": {},
   "source": [
    "![dj-roads-erd](./images/dj-roads-erd.jpg)\n",
    "*note: open in a new tab to see at full-resolution*"
   ]
  },
  {
   "cell_type": "code",
   "execution_count": 1,
   "id": "ba3ff960",
   "metadata": {
    "tags": []
   },
   "outputs": [
    {
     "name": "stdout",
     "output_type": "stream",
     "text": [
      "http://dj:8000\n"
     ]
    }
   ],
   "source": [
    "import requests\n",
    "\n",
    "DJ_URL = f\"http://dj:8000\"\n",
    "DJQS_URL = \"http://djqs:8001\"\n",
    "print(DJ_URL)"
   ]
  },
  {
   "cell_type": "markdown",
   "id": "9b9ee60b",
   "metadata": {},
   "source": [
    "# Add a Catalog and an Engine\n",
    "\n",
    "In DJ, all nodes used in a query must share a common catalog. Before creating source nodes, add a `dj` catalog and a `duckdb` engine to the system."
   ]
  },
  {
   "cell_type": "code",
   "execution_count": 2,
   "id": "da86a1ec",
   "metadata": {
    "tags": []
   },
   "outputs": [
    {
     "name": "stdout",
     "output_type": "stream",
     "text": [
      "{'name': 'dj', 'engines': []}\n",
      "{'detail': 'Catalog already exists: `dj`'}\n",
      "{'name': 'duckdb', 'version': '0.7.1', 'uri': None}\n",
      "{'detail': 'Engine already exists: `duckdb` version `0.7.1`'}\n",
      "{'name': 'dj', 'engines': [{'name': 'duckdb', 'version': '0.7.1', 'uri': None}]}\n",
      "{'name': 'dj', 'engines': [{'name': 'duckdb', 'version': '0.7.1'}]}\n"
     ]
    }
   ],
   "source": [
    "response = requests.post(\n",
    "    f\"{DJ_URL}/catalogs/\",\n",
    "    json={\"name\": \"dj\"},\n",
    ")\n",
    "print(response.json())\n",
    "\n",
    "response = requests.post(\n",
    "    f\"{DJQS_URL}/catalogs/\",\n",
    "    json={\"name\": \"dj\"},\n",
    ")\n",
    "print(response.json())\n",
    "\n",
    "response = requests.post(\n",
    "    f\"{DJ_URL}/engines/\",\n",
    "    json={\n",
    "        \"name\": \"duckdb\",\n",
    "        \"version\": \"0.7.1\",\n",
    "    },\n",
    ")\n",
    "print(response.json())\n",
    "\n",
    "response = requests.post(\n",
    "    f\"{DJQS_URL}/engines/\",\n",
    "    json={\n",
    "        \"name\": \"duckdb\",\n",
    "        \"version\": \"0.7.1\",\n",
    "        \"uri\": \"duckdb://local[*]\",  # The uri is only required by DJQS\n",
    "    },\n",
    ")\n",
    "print(response.json())\n",
    "\n",
    "response = requests.post(\n",
    "    f\"{DJ_URL}/catalogs/dj/engines/\",\n",
    "    json=[{\"name\": \"duckdb\", \"version\": \"0.7.1\"}],\n",
    ")\n",
    "print(response.json())\n",
    "\n",
    "response = requests.post(\n",
    "    f\"{DJQS_URL}/catalogs/dj/engines/\",\n",
    "    json=[{\"name\": \"duckdb\", \"version\": \"0.7.1\"}],\n",
    ")\n",
    "print(response.json())"
   ]
  },
  {
   "cell_type": "markdown",
   "id": "eebb213d",
   "metadata": {},
   "source": [
    "# Create Source Nodes\n",
    "Create twelve source nodes for each of the tables in the DJ roads example database."
   ]
  },
  {
   "cell_type": "code",
   "execution_count": 3,
   "id": "4b6e7674",
   "metadata": {
    "tags": []
   },
   "outputs": [
    {
     "data": {
      "text/plain": [
       "{'node_revision_id': 1,\n",
       " 'node_id': 1,\n",
       " 'type': 'source',\n",
       " 'name': 'repair_orders',\n",
       " 'display_name': 'Repair Orders',\n",
       " 'version': 'v1.0',\n",
       " 'status': 'valid',\n",
       " 'mode': 'published',\n",
       " 'catalog': {'id': 1,\n",
       "  'uuid': '81154f1d-f0fb-4106-b99e-3022704d775c',\n",
       "  'created_at': '2023-04-08T22:19:20.073591+00:00',\n",
       "  'updated_at': '2023-04-08T22:19:20.073638+00:00',\n",
       "  'extra_params': {},\n",
       "  'name': 'dj'},\n",
       " 'schema_': 'roads',\n",
       " 'table': 'repair_orders',\n",
       " 'description': 'Repair orders',\n",
       " 'query': None,\n",
       " 'availability': None,\n",
       " 'columns': [{'name': 'repair_order_id',\n",
       "   'type': 'int',\n",
       "   'attributes': [],\n",
       "   'dimension': None},\n",
       "  {'name': 'municipality_id',\n",
       "   'type': 'string',\n",
       "   'attributes': [],\n",
       "   'dimension': None},\n",
       "  {'name': 'hard_hat_id', 'type': 'int', 'attributes': [], 'dimension': None},\n",
       "  {'name': 'order_date', 'type': 'date', 'attributes': [], 'dimension': None},\n",
       "  {'name': 'required_date',\n",
       "   'type': 'date',\n",
       "   'attributes': [],\n",
       "   'dimension': None},\n",
       "  {'name': 'dispatched_date',\n",
       "   'type': 'date',\n",
       "   'attributes': [],\n",
       "   'dimension': None},\n",
       "  {'name': 'dispatcher_id',\n",
       "   'type': 'int',\n",
       "   'attributes': [],\n",
       "   'dimension': None}],\n",
       " 'updated_at': '2023-04-08T22:19:21.260367+00:00',\n",
       " 'materialization_configs': [],\n",
       " 'parents': [],\n",
       " 'created_at': '2023-04-08T22:19:21.214105+00:00',\n",
       " 'tags': []}"
      ]
     },
     "execution_count": 3,
     "metadata": {},
     "output_type": "execute_result"
    }
   ],
   "source": [
    "response = requests.post(\n",
    "    f\"{DJ_URL}/nodes/source/\",\n",
    "    json={\n",
    "        \"columns\": {\n",
    "            \"repair_order_id\": {\"type\": \"int\"},\n",
    "            \"municipality_id\": {\"type\": \"string\"},\n",
    "            \"hard_hat_id\": {\"type\": \"int\"},\n",
    "            \"order_date\": {\"type\": \"date\"},\n",
    "            \"required_date\": {\"type\": \"date\"},\n",
    "            \"dispatched_date\": {\"type\": \"date\"},\n",
    "            \"dispatcher_id\": {\"type\": \"int\"},\n",
    "        },\n",
    "        \"description\": \"Repair orders\",\n",
    "        \"mode\": \"published\",\n",
    "        \"name\": \"repair_orders\",\n",
    "        \"catalog\": \"dj\",\n",
    "        \"schema_\": \"roads\",\n",
    "        \"table\": \"repair_orders\",\n",
    "    },\n",
    ")\n",
    "response.json()"
   ]
  },
  {
   "cell_type": "code",
   "execution_count": 4,
   "id": "99812125",
   "metadata": {
    "tags": []
   },
   "outputs": [
    {
     "data": {
      "text/plain": [
       "{'node_revision_id': 2,\n",
       " 'node_id': 2,\n",
       " 'type': 'source',\n",
       " 'name': 'repair_order_details',\n",
       " 'display_name': 'Repair Order Details',\n",
       " 'version': 'v1.0',\n",
       " 'status': 'valid',\n",
       " 'mode': 'published',\n",
       " 'catalog': {'id': 1,\n",
       "  'uuid': '81154f1d-f0fb-4106-b99e-3022704d775c',\n",
       "  'created_at': '2023-04-08T22:19:20.073591+00:00',\n",
       "  'updated_at': '2023-04-08T22:19:20.073638+00:00',\n",
       "  'extra_params': {},\n",
       "  'name': 'dj'},\n",
       " 'schema_': 'roads',\n",
       " 'table': 'repair_order_details',\n",
       " 'description': 'Details on repair orders',\n",
       " 'query': None,\n",
       " 'availability': None,\n",
       " 'columns': [{'name': 'repair_order_id',\n",
       "   'type': 'int',\n",
       "   'attributes': [],\n",
       "   'dimension': None},\n",
       "  {'name': 'repair_type_id',\n",
       "   'type': 'int',\n",
       "   'attributes': [],\n",
       "   'dimension': None},\n",
       "  {'name': 'price', 'type': 'float', 'attributes': [], 'dimension': None},\n",
       "  {'name': 'quantity', 'type': 'int', 'attributes': [], 'dimension': None},\n",
       "  {'name': 'discount', 'type': 'float', 'attributes': [], 'dimension': None}],\n",
       " 'updated_at': '2023-04-08T22:19:21.669827+00:00',\n",
       " 'materialization_configs': [],\n",
       " 'parents': [],\n",
       " 'created_at': '2023-04-08T22:19:21.637109+00:00',\n",
       " 'tags': []}"
      ]
     },
     "execution_count": 4,
     "metadata": {},
     "output_type": "execute_result"
    }
   ],
   "source": [
    "response = requests.post(\n",
    "    f\"{DJ_URL}/nodes/source/\",\n",
    "    json={\n",
    "        \"columns\": {\n",
    "            \"repair_order_id\": {\"type\": \"int\"},\n",
    "            \"repair_type_id\": {\"type\": \"int\"},\n",
    "            \"price\": {\"type\": \"float\"},\n",
    "            \"quantity\": {\"type\": \"int\"},\n",
    "            \"discount\": {\"type\": \"float\"},\n",
    "        },\n",
    "        \"description\": \"Details on repair orders\",\n",
    "        \"mode\": \"published\",\n",
    "        \"name\": \"repair_order_details\",\n",
    "        \"catalog\": \"dj\",\n",
    "        \"schema_\": \"roads\",\n",
    "        \"table\": \"repair_order_details\",\n",
    "    },\n",
    ")\n",
    "response.json()"
   ]
  },
  {
   "cell_type": "code",
   "execution_count": 5,
   "id": "122440f9",
   "metadata": {
    "tags": []
   },
   "outputs": [
    {
     "data": {
      "text/plain": [
       "{'node_revision_id': 3,\n",
       " 'node_id': 3,\n",
       " 'type': 'source',\n",
       " 'name': 'repair_type',\n",
       " 'display_name': 'Repair Type',\n",
       " 'version': 'v1.0',\n",
       " 'status': 'valid',\n",
       " 'mode': 'published',\n",
       " 'catalog': {'id': 1,\n",
       "  'uuid': '81154f1d-f0fb-4106-b99e-3022704d775c',\n",
       "  'created_at': '2023-04-08T22:19:20.073591+00:00',\n",
       "  'updated_at': '2023-04-08T22:19:20.073638+00:00',\n",
       "  'extra_params': {},\n",
       "  'name': 'dj'},\n",
       " 'schema_': 'roads',\n",
       " 'table': 'repair_type',\n",
       " 'description': 'Information on different types of repairs',\n",
       " 'query': None,\n",
       " 'availability': None,\n",
       " 'columns': [{'name': 'repair_type_id',\n",
       "   'type': 'int',\n",
       "   'attributes': [],\n",
       "   'dimension': None},\n",
       "  {'name': 'repair_type_name',\n",
       "   'type': 'string',\n",
       "   'attributes': [],\n",
       "   'dimension': None},\n",
       "  {'name': 'contractor_id',\n",
       "   'type': 'int',\n",
       "   'attributes': [],\n",
       "   'dimension': None}],\n",
       " 'updated_at': '2023-04-08T22:19:21.979711+00:00',\n",
       " 'materialization_configs': [],\n",
       " 'parents': [],\n",
       " 'created_at': '2023-04-08T22:19:21.958690+00:00',\n",
       " 'tags': []}"
      ]
     },
     "execution_count": 5,
     "metadata": {},
     "output_type": "execute_result"
    }
   ],
   "source": [
    "response = requests.post(\n",
    "    f\"{DJ_URL}/nodes/source/\",\n",
    "    json={\n",
    "        \"columns\": {\n",
    "            \"repair_type_id\": {\"type\": \"int\"},\n",
    "            \"repair_type_name\": {\"type\": \"string\"},\n",
    "            \"contractor_id\": {\"type\": \"int\"},\n",
    "        },\n",
    "        \"description\": \"Information on different types of repairs\",\n",
    "        \"mode\": \"published\",\n",
    "        \"name\": \"repair_type\",\n",
    "        \"catalog\": \"dj\",\n",
    "        \"schema_\": \"roads\",\n",
    "        \"table\": \"repair_type\",\n",
    "    },\n",
    ")\n",
    "response.json()"
   ]
  },
  {
   "cell_type": "code",
   "execution_count": 6,
   "id": "b4092b42",
   "metadata": {
    "tags": []
   },
   "outputs": [
    {
     "data": {
      "text/plain": [
       "{'node_revision_id': 4,\n",
       " 'node_id': 4,\n",
       " 'type': 'source',\n",
       " 'name': 'contractors',\n",
       " 'display_name': 'Contractors',\n",
       " 'version': 'v1.0',\n",
       " 'status': 'valid',\n",
       " 'mode': 'published',\n",
       " 'catalog': {'id': 1,\n",
       "  'uuid': '81154f1d-f0fb-4106-b99e-3022704d775c',\n",
       "  'created_at': '2023-04-08T22:19:20.073591+00:00',\n",
       "  'updated_at': '2023-04-08T22:19:20.073638+00:00',\n",
       "  'extra_params': {},\n",
       "  'name': 'dj'},\n",
       " 'schema_': 'roads',\n",
       " 'table': 'contractors',\n",
       " 'description': 'Information on different types of repairs',\n",
       " 'query': None,\n",
       " 'availability': None,\n",
       " 'columns': [{'name': 'contractor_id',\n",
       "   'type': 'int',\n",
       "   'attributes': [],\n",
       "   'dimension': None},\n",
       "  {'name': 'company_name',\n",
       "   'type': 'string',\n",
       "   'attributes': [],\n",
       "   'dimension': None},\n",
       "  {'name': 'contact_name',\n",
       "   'type': 'string',\n",
       "   'attributes': [],\n",
       "   'dimension': None},\n",
       "  {'name': 'contact_title',\n",
       "   'type': 'string',\n",
       "   'attributes': [],\n",
       "   'dimension': None},\n",
       "  {'name': 'address', 'type': 'string', 'attributes': [], 'dimension': None},\n",
       "  {'name': 'city', 'type': 'string', 'attributes': [], 'dimension': None},\n",
       "  {'name': 'state', 'type': 'string', 'attributes': [], 'dimension': None},\n",
       "  {'name': 'postal_code',\n",
       "   'type': 'string',\n",
       "   'attributes': [],\n",
       "   'dimension': None},\n",
       "  {'name': 'country', 'type': 'string', 'attributes': [], 'dimension': None}],\n",
       " 'updated_at': '2023-04-08T22:19:22.385515+00:00',\n",
       " 'materialization_configs': [],\n",
       " 'parents': [],\n",
       " 'created_at': '2023-04-08T22:19:22.337464+00:00',\n",
       " 'tags': []}"
      ]
     },
     "execution_count": 6,
     "metadata": {},
     "output_type": "execute_result"
    }
   ],
   "source": [
    "response = requests.post(\n",
    "    f\"{DJ_URL}/nodes/source/\",\n",
    "    json={\n",
    "        \"columns\": {\n",
    "            \"contractor_id\": {\"type\": \"int\"},\n",
    "            \"company_name\": {\"type\": \"string\"},\n",
    "            \"contact_name\": {\"type\": \"string\"},\n",
    "            \"contact_title\": {\"type\": \"string\"},\n",
    "            \"address\": {\"type\": \"string\"},\n",
    "            \"city\": {\"type\": \"string\"},\n",
    "            \"state\": {\"type\": \"string\"},\n",
    "            \"postal_code\": {\"type\": \"string\"},\n",
    "            \"country\": {\"type\": \"string\"},\n",
    "        },\n",
    "        \"description\": \"Information on different types of repairs\",\n",
    "        \"mode\": \"published\",\n",
    "        \"name\": \"contractors\",\n",
    "        \"catalog\": \"dj\",\n",
    "        \"schema_\": \"roads\",\n",
    "        \"table\": \"contractors\",\n",
    "    },\n",
    ")\n",
    "response.json()"
   ]
  },
  {
   "cell_type": "code",
   "execution_count": 7,
   "id": "05cc34e6",
   "metadata": {
    "tags": []
   },
   "outputs": [
    {
     "data": {
      "text/plain": [
       "{'node_revision_id': 5,\n",
       " 'node_id': 5,\n",
       " 'type': 'source',\n",
       " 'name': 'municipality_municipality_type',\n",
       " 'display_name': 'Municipality Municipality Type',\n",
       " 'version': 'v1.0',\n",
       " 'status': 'valid',\n",
       " 'mode': 'published',\n",
       " 'catalog': {'id': 1,\n",
       "  'uuid': '81154f1d-f0fb-4106-b99e-3022704d775c',\n",
       "  'created_at': '2023-04-08T22:19:20.073591+00:00',\n",
       "  'updated_at': '2023-04-08T22:19:20.073638+00:00',\n",
       "  'extra_params': {},\n",
       "  'name': 'dj'},\n",
       " 'schema_': 'roads',\n",
       " 'table': 'municipality_municipality_type',\n",
       " 'description': 'Information on different types of repairs',\n",
       " 'query': None,\n",
       " 'availability': None,\n",
       " 'columns': [{'name': 'municipality_id',\n",
       "   'type': 'string',\n",
       "   'attributes': [],\n",
       "   'dimension': None},\n",
       "  {'name': 'municipality_type_id',\n",
       "   'type': 'string',\n",
       "   'attributes': [],\n",
       "   'dimension': None}],\n",
       " 'updated_at': '2023-04-08T22:19:22.736257+00:00',\n",
       " 'materialization_configs': [],\n",
       " 'parents': [],\n",
       " 'created_at': '2023-04-08T22:19:22.716975+00:00',\n",
       " 'tags': []}"
      ]
     },
     "execution_count": 7,
     "metadata": {},
     "output_type": "execute_result"
    }
   ],
   "source": [
    "response = requests.post(\n",
    "    f\"{DJ_URL}/nodes/source/\",\n",
    "    json={\n",
    "        \"columns\": {\n",
    "            \"municipality_id\": {\"type\": \"string\"},\n",
    "            \"municipality_type_id\": {\"type\": \"string\"},\n",
    "        },\n",
    "        \"description\": \"Information on different types of repairs\",\n",
    "        \"mode\": \"published\",\n",
    "        \"name\": \"municipality_municipality_type\",\n",
    "        \"catalog\": \"dj\",\n",
    "        \"schema_\": \"roads\",\n",
    "        \"table\": \"municipality_municipality_type\",\n",
    "    },\n",
    ")\n",
    "response.json()"
   ]
  },
  {
   "cell_type": "code",
   "execution_count": 8,
   "id": "9dc5d78b",
   "metadata": {
    "tags": []
   },
   "outputs": [
    {
     "data": {
      "text/plain": [
       "{'node_revision_id': 6,\n",
       " 'node_id': 6,\n",
       " 'type': 'source',\n",
       " 'name': 'municipality_type',\n",
       " 'display_name': 'Municipality Type',\n",
       " 'version': 'v1.0',\n",
       " 'status': 'valid',\n",
       " 'mode': 'published',\n",
       " 'catalog': {'id': 1,\n",
       "  'uuid': '81154f1d-f0fb-4106-b99e-3022704d775c',\n",
       "  'created_at': '2023-04-08T22:19:20.073591+00:00',\n",
       "  'updated_at': '2023-04-08T22:19:20.073638+00:00',\n",
       "  'extra_params': {},\n",
       "  'name': 'dj'},\n",
       " 'schema_': 'roads',\n",
       " 'table': 'municipality_type',\n",
       " 'description': 'Information on different types of repairs',\n",
       " 'query': None,\n",
       " 'availability': None,\n",
       " 'columns': [{'name': 'municipality_type_id',\n",
       "   'type': 'string',\n",
       "   'attributes': [],\n",
       "   'dimension': None},\n",
       "  {'name': 'municipality_type_desc',\n",
       "   'type': 'string',\n",
       "   'attributes': [],\n",
       "   'dimension': None}],\n",
       " 'updated_at': '2023-04-08T22:19:23.041162+00:00',\n",
       " 'materialization_configs': [],\n",
       " 'parents': [],\n",
       " 'created_at': '2023-04-08T22:19:23.022893+00:00',\n",
       " 'tags': []}"
      ]
     },
     "execution_count": 8,
     "metadata": {},
     "output_type": "execute_result"
    }
   ],
   "source": [
    "response = requests.post(\n",
    "    f\"{DJ_URL}/nodes/source/\",\n",
    "    json={\n",
    "        \"columns\": {\n",
    "            \"municipality_type_id\": {\"type\": \"string\"},\n",
    "            \"municipality_type_desc\": {\"type\": \"string\"},\n",
    "        },\n",
    "        \"description\": \"Information on different types of repairs\",\n",
    "        \"mode\": \"published\",\n",
    "        \"name\": \"municipality_type\",\n",
    "        \"catalog\": \"dj\",\n",
    "        \"schema_\": \"roads\",\n",
    "        \"table\": \"municipality_type\",\n",
    "    },\n",
    ")\n",
    "response.json()"
   ]
  },
  {
   "cell_type": "code",
   "execution_count": 9,
   "id": "c20728c0",
   "metadata": {
    "tags": []
   },
   "outputs": [
    {
     "data": {
      "text/plain": [
       "{'node_revision_id': 7,\n",
       " 'node_id': 7,\n",
       " 'type': 'source',\n",
       " 'name': 'municipality',\n",
       " 'display_name': 'Municipality',\n",
       " 'version': 'v1.0',\n",
       " 'status': 'valid',\n",
       " 'mode': 'published',\n",
       " 'catalog': {'id': 1,\n",
       "  'uuid': '81154f1d-f0fb-4106-b99e-3022704d775c',\n",
       "  'created_at': '2023-04-08T22:19:20.073591+00:00',\n",
       "  'updated_at': '2023-04-08T22:19:20.073638+00:00',\n",
       "  'extra_params': {},\n",
       "  'name': 'dj'},\n",
       " 'schema_': 'roads',\n",
       " 'table': 'municipality',\n",
       " 'description': 'Information on different types of repairs',\n",
       " 'query': None,\n",
       " 'availability': None,\n",
       " 'columns': [{'name': 'municipality_id',\n",
       "   'type': 'string',\n",
       "   'attributes': [],\n",
       "   'dimension': None},\n",
       "  {'name': 'contact_name',\n",
       "   'type': 'string',\n",
       "   'attributes': [],\n",
       "   'dimension': None},\n",
       "  {'name': 'contact_title',\n",
       "   'type': 'string',\n",
       "   'attributes': [],\n",
       "   'dimension': None},\n",
       "  {'name': 'local_region',\n",
       "   'type': 'string',\n",
       "   'attributes': [],\n",
       "   'dimension': None},\n",
       "  {'name': 'phone', 'type': 'string', 'attributes': [], 'dimension': None},\n",
       "  {'name': 'state_id', 'type': 'int', 'attributes': [], 'dimension': None}],\n",
       " 'updated_at': '2023-04-08T22:19:23.385553+00:00',\n",
       " 'materialization_configs': [],\n",
       " 'parents': [],\n",
       " 'created_at': '2023-04-08T22:19:23.344151+00:00',\n",
       " 'tags': []}"
      ]
     },
     "execution_count": 9,
     "metadata": {},
     "output_type": "execute_result"
    }
   ],
   "source": [
    "response = requests.post(\n",
    "    f\"{DJ_URL}/nodes/source/\",\n",
    "    json={\n",
    "        \"columns\": {\n",
    "            \"municipality_id\": {\"type\": \"string\"},\n",
    "            \"contact_name\": {\"type\": \"string\"},\n",
    "            \"contact_title\": {\"type\": \"string\"},\n",
    "            \"local_region\": {\"type\": \"string\"},\n",
    "            \"phone\": {\"type\": \"string\"},\n",
    "            \"state_id\": {\"type\": \"int\"},\n",
    "        },\n",
    "        \"description\": \"Information on different types of repairs\",\n",
    "        \"mode\": \"published\",\n",
    "        \"name\": \"municipality\",\n",
    "        \"catalog\": \"dj\",\n",
    "        \"schema_\": \"roads\",\n",
    "        \"table\": \"municipality\",\n",
    "    },\n",
    ")\n",
    "response.json()"
   ]
  },
  {
   "cell_type": "code",
   "execution_count": 10,
   "id": "b876fc24",
   "metadata": {
    "tags": []
   },
   "outputs": [
    {
     "data": {
      "text/plain": [
       "{'node_revision_id': 8,\n",
       " 'node_id': 8,\n",
       " 'type': 'source',\n",
       " 'name': 'dispatchers',\n",
       " 'display_name': 'Dispatchers',\n",
       " 'version': 'v1.0',\n",
       " 'status': 'valid',\n",
       " 'mode': 'published',\n",
       " 'catalog': {'id': 1,\n",
       "  'uuid': '81154f1d-f0fb-4106-b99e-3022704d775c',\n",
       "  'created_at': '2023-04-08T22:19:20.073591+00:00',\n",
       "  'updated_at': '2023-04-08T22:19:20.073638+00:00',\n",
       "  'extra_params': {},\n",
       "  'name': 'dj'},\n",
       " 'schema_': 'roads',\n",
       " 'table': 'dispatchers',\n",
       " 'description': 'Information on different types of repairs',\n",
       " 'query': None,\n",
       " 'availability': None,\n",
       " 'columns': [{'name': 'dispatcher_id',\n",
       "   'type': 'int',\n",
       "   'attributes': [],\n",
       "   'dimension': None},\n",
       "  {'name': 'company_name',\n",
       "   'type': 'string',\n",
       "   'attributes': [],\n",
       "   'dimension': None},\n",
       "  {'name': 'phone', 'type': 'string', 'attributes': [], 'dimension': None}],\n",
       " 'updated_at': '2023-04-08T22:19:23.735722+00:00',\n",
       " 'materialization_configs': [],\n",
       " 'parents': [],\n",
       " 'created_at': '2023-04-08T22:19:23.706176+00:00',\n",
       " 'tags': []}"
      ]
     },
     "execution_count": 10,
     "metadata": {},
     "output_type": "execute_result"
    }
   ],
   "source": [
    "response = requests.post(\n",
    "    f\"{DJ_URL}/nodes/source/\",\n",
    "    json={\n",
    "        \"columns\": {\n",
    "            \"dispatcher_id\": {\"type\": \"int\"},\n",
    "            \"company_name\": {\"type\": \"string\"},\n",
    "            \"phone\": {\"type\": \"string\"},\n",
    "        },\n",
    "        \"description\": \"Information on different types of repairs\",\n",
    "        \"mode\": \"published\",\n",
    "        \"name\": \"dispatchers\",\n",
    "        \"catalog\": \"dj\",\n",
    "        \"schema_\": \"roads\",\n",
    "        \"table\": \"dispatchers\",\n",
    "    },\n",
    ")\n",
    "response.json()"
   ]
  },
  {
   "cell_type": "code",
   "execution_count": 11,
   "id": "1cc47895",
   "metadata": {
    "tags": []
   },
   "outputs": [
    {
     "data": {
      "text/plain": [
       "{'node_revision_id': 9,\n",
       " 'node_id': 9,\n",
       " 'type': 'source',\n",
       " 'name': 'hard_hats',\n",
       " 'display_name': 'Hard Hats',\n",
       " 'version': 'v1.0',\n",
       " 'status': 'valid',\n",
       " 'mode': 'published',\n",
       " 'catalog': {'id': 1,\n",
       "  'uuid': '81154f1d-f0fb-4106-b99e-3022704d775c',\n",
       "  'created_at': '2023-04-08T22:19:20.073591+00:00',\n",
       "  'updated_at': '2023-04-08T22:19:20.073638+00:00',\n",
       "  'extra_params': {},\n",
       "  'name': 'dj'},\n",
       " 'schema_': 'roads',\n",
       " 'table': 'hard_hats',\n",
       " 'description': 'Information on different types of repairs',\n",
       " 'query': None,\n",
       " 'availability': None,\n",
       " 'columns': [{'name': 'hard_hat_id',\n",
       "   'type': 'int',\n",
       "   'attributes': [],\n",
       "   'dimension': None},\n",
       "  {'name': 'last_name', 'type': 'string', 'attributes': [], 'dimension': None},\n",
       "  {'name': 'first_name',\n",
       "   'type': 'string',\n",
       "   'attributes': [],\n",
       "   'dimension': None},\n",
       "  {'name': 'title', 'type': 'string', 'attributes': [], 'dimension': None},\n",
       "  {'name': 'birth_date', 'type': 'date', 'attributes': [], 'dimension': None},\n",
       "  {'name': 'hire_date', 'type': 'date', 'attributes': [], 'dimension': None},\n",
       "  {'name': 'address', 'type': 'string', 'attributes': [], 'dimension': None},\n",
       "  {'name': 'city', 'type': 'string', 'attributes': [], 'dimension': None},\n",
       "  {'name': 'state', 'type': 'string', 'attributes': [], 'dimension': None},\n",
       "  {'name': 'postal_code',\n",
       "   'type': 'string',\n",
       "   'attributes': [],\n",
       "   'dimension': None},\n",
       "  {'name': 'country', 'type': 'string', 'attributes': [], 'dimension': None},\n",
       "  {'name': 'manager', 'type': 'int', 'attributes': [], 'dimension': None},\n",
       "  {'name': 'contractor_id',\n",
       "   'type': 'int',\n",
       "   'attributes': [],\n",
       "   'dimension': None}],\n",
       " 'updated_at': '2023-04-08T22:19:24.314169+00:00',\n",
       " 'materialization_configs': [],\n",
       " 'parents': [],\n",
       " 'created_at': '2023-04-08T22:19:24.247093+00:00',\n",
       " 'tags': []}"
      ]
     },
     "execution_count": 11,
     "metadata": {},
     "output_type": "execute_result"
    }
   ],
   "source": [
    "response = requests.post(\n",
    "    f\"{DJ_URL}/nodes/source/\",\n",
    "    json={\n",
    "        \"columns\": {\n",
    "            \"hard_hat_id\": {\"type\": \"int\"},\n",
    "            \"last_name\": {\"type\": \"string\"},\n",
    "            \"first_name\": {\"type\": \"string\"},\n",
    "            \"title\": {\"type\": \"string\"},\n",
    "            \"birth_date\": {\"type\": \"date\"},\n",
    "            \"hire_date\": {\"type\": \"date\"},\n",
    "            \"address\": {\"type\": \"string\"},\n",
    "            \"city\": {\"type\": \"string\"},\n",
    "            \"state\": {\"type\": \"string\"},\n",
    "            \"postal_code\": {\"type\": \"string\"},\n",
    "            \"country\": {\"type\": \"string\"},\n",
    "            \"manager\": {\"type\": \"int\"},\n",
    "            \"contractor_id\": {\"type\": \"int\"},\n",
    "        },\n",
    "        \"description\": \"Information on different types of repairs\",\n",
    "        \"mode\": \"published\",\n",
    "        \"name\": \"hard_hats\",\n",
    "        \"catalog\": \"dj\",\n",
    "        \"schema_\": \"roads\",\n",
    "        \"table\": \"hard_hats\",\n",
    "    },\n",
    ")\n",
    "response.json()"
   ]
  },
  {
   "cell_type": "code",
   "execution_count": 12,
   "id": "87aeb9b6",
   "metadata": {
    "tags": []
   },
   "outputs": [
    {
     "data": {
      "text/plain": [
       "{'node_revision_id': 10,\n",
       " 'node_id': 10,\n",
       " 'type': 'source',\n",
       " 'name': 'hard_hat_state',\n",
       " 'display_name': 'Hard Hat State',\n",
       " 'version': 'v1.0',\n",
       " 'status': 'valid',\n",
       " 'mode': 'published',\n",
       " 'catalog': {'id': 1,\n",
       "  'uuid': '81154f1d-f0fb-4106-b99e-3022704d775c',\n",
       "  'created_at': '2023-04-08T22:19:20.073591+00:00',\n",
       "  'updated_at': '2023-04-08T22:19:20.073638+00:00',\n",
       "  'extra_params': {},\n",
       "  'name': 'dj'},\n",
       " 'schema_': 'roads',\n",
       " 'table': 'hard_hat_state',\n",
       " 'description': 'Information on different types of repairs',\n",
       " 'query': None,\n",
       " 'availability': None,\n",
       " 'columns': [{'name': 'hard_hat_id',\n",
       "   'type': 'int',\n",
       "   'attributes': [],\n",
       "   'dimension': None},\n",
       "  {'name': 'state_id', 'type': 'string', 'attributes': [], 'dimension': None}],\n",
       " 'updated_at': '2023-04-08T22:19:24.635451+00:00',\n",
       " 'materialization_configs': [],\n",
       " 'parents': [],\n",
       " 'created_at': '2023-04-08T22:19:24.618066+00:00',\n",
       " 'tags': []}"
      ]
     },
     "execution_count": 12,
     "metadata": {},
     "output_type": "execute_result"
    }
   ],
   "source": [
    "response = requests.post(\n",
    "    f\"{DJ_URL}/nodes/source/\",\n",
    "    json={\n",
    "        \"columns\": {\n",
    "            \"hard_hat_id\": {\"type\": \"int\"},\n",
    "            \"state_id\": {\"type\": \"string\"},\n",
    "        },\n",
    "        \"description\": \"Information on different types of repairs\",\n",
    "        \"mode\": \"published\",\n",
    "        \"name\": \"hard_hat_state\",\n",
    "        \"catalog\": \"dj\",\n",
    "        \"schema_\": \"roads\",\n",
    "        \"table\": \"hard_hat_state\",\n",
    "    },\n",
    ")\n",
    "response.json()"
   ]
  },
  {
   "cell_type": "code",
   "execution_count": 13,
   "id": "310c9ef4",
   "metadata": {
    "tags": []
   },
   "outputs": [
    {
     "data": {
      "text/plain": [
       "{'node_revision_id': 11,\n",
       " 'node_id': 11,\n",
       " 'type': 'source',\n",
       " 'name': 'us_states',\n",
       " 'display_name': 'Us States',\n",
       " 'version': 'v1.0',\n",
       " 'status': 'valid',\n",
       " 'mode': 'published',\n",
       " 'catalog': {'id': 1,\n",
       "  'uuid': '81154f1d-f0fb-4106-b99e-3022704d775c',\n",
       "  'created_at': '2023-04-08T22:19:20.073591+00:00',\n",
       "  'updated_at': '2023-04-08T22:19:20.073638+00:00',\n",
       "  'extra_params': {},\n",
       "  'name': 'dj'},\n",
       " 'schema_': 'roads',\n",
       " 'table': 'us_states',\n",
       " 'description': 'Information on different types of repairs',\n",
       " 'query': None,\n",
       " 'availability': None,\n",
       " 'columns': [{'name': 'state_id',\n",
       "   'type': 'int',\n",
       "   'attributes': [],\n",
       "   'dimension': None},\n",
       "  {'name': 'state_name',\n",
       "   'type': 'string',\n",
       "   'attributes': [],\n",
       "   'dimension': None},\n",
       "  {'name': 'state_abbr',\n",
       "   'type': 'string',\n",
       "   'attributes': [],\n",
       "   'dimension': None},\n",
       "  {'name': 'state_region',\n",
       "   'type': 'int',\n",
       "   'attributes': [],\n",
       "   'dimension': None}],\n",
       " 'updated_at': '2023-04-08T22:19:24.922640+00:00',\n",
       " 'materialization_configs': [],\n",
       " 'parents': [],\n",
       " 'created_at': '2023-04-08T22:19:24.894896+00:00',\n",
       " 'tags': []}"
      ]
     },
     "execution_count": 13,
     "metadata": {},
     "output_type": "execute_result"
    }
   ],
   "source": [
    "response = requests.post(\n",
    "    f\"{DJ_URL}/nodes/source/\",\n",
    "    json={\n",
    "        \"columns\": {\n",
    "            \"state_id\": {\"type\": \"int\"},\n",
    "            \"state_name\": {\"type\": \"string\"},\n",
    "            \"state_abbr\": {\"type\": \"string\"},\n",
    "            \"state_region\": {\"type\": \"int\"},\n",
    "        },\n",
    "        \"description\": \"Information on different types of repairs\",\n",
    "        \"mode\": \"published\",\n",
    "        \"name\": \"us_states\",\n",
    "        \"catalog\": \"dj\",\n",
    "        \"schema_\": \"roads\",\n",
    "        \"table\": \"us_states\",\n",
    "    },\n",
    ")\n",
    "response.json()"
   ]
  },
  {
   "cell_type": "code",
   "execution_count": 14,
   "id": "b7ce8d9d",
   "metadata": {
    "tags": []
   },
   "outputs": [
    {
     "data": {
      "text/plain": [
       "{'node_revision_id': 12,\n",
       " 'node_id': 12,\n",
       " 'type': 'source',\n",
       " 'name': 'us_region',\n",
       " 'display_name': 'Us Region',\n",
       " 'version': 'v1.0',\n",
       " 'status': 'valid',\n",
       " 'mode': 'published',\n",
       " 'catalog': {'id': 1,\n",
       "  'uuid': '81154f1d-f0fb-4106-b99e-3022704d775c',\n",
       "  'created_at': '2023-04-08T22:19:20.073591+00:00',\n",
       "  'updated_at': '2023-04-08T22:19:20.073638+00:00',\n",
       "  'extra_params': {},\n",
       "  'name': 'dj'},\n",
       " 'schema_': 'roads',\n",
       " 'table': 'us_region',\n",
       " 'description': 'Information on different types of repairs',\n",
       " 'query': None,\n",
       " 'availability': None,\n",
       " 'columns': [{'name': 'us_region_id',\n",
       "   'type': 'int',\n",
       "   'attributes': [],\n",
       "   'dimension': None},\n",
       "  {'name': 'us_region_description',\n",
       "   'type': 'string',\n",
       "   'attributes': [],\n",
       "   'dimension': None}],\n",
       " 'updated_at': '2023-04-08T22:19:25.203704+00:00',\n",
       " 'materialization_configs': [],\n",
       " 'parents': [],\n",
       " 'created_at': '2023-04-08T22:19:25.186179+00:00',\n",
       " 'tags': []}"
      ]
     },
     "execution_count": 14,
     "metadata": {},
     "output_type": "execute_result"
    }
   ],
   "source": [
    "response = requests.post(\n",
    "    f\"{DJ_URL}/nodes/source/\",\n",
    "    json={\n",
    "        \"columns\": {\n",
    "            \"us_region_id\": {\"type\": \"int\"},\n",
    "            \"us_region_description\": {\"type\": \"string\"},\n",
    "        },\n",
    "        \"description\": \"Information on different types of repairs\",\n",
    "        \"mode\": \"published\",\n",
    "        \"name\": \"us_region\",\n",
    "        \"catalog\": \"dj\",\n",
    "        \"schema_\": \"roads\",\n",
    "        \"table\": \"us_region\",\n",
    "    },\n",
    ")\n",
    "response.json()"
   ]
  },
  {
   "cell_type": "markdown",
   "id": "7a1c79a5",
   "metadata": {},
   "source": [
    "# Create Dimension Nodes\n",
    "\n",
    "Dimension nodes are how you represent dimensions in the data model and can be defined using any SQL, including filters as well as joins to source nodes, transform nodes, and other dimension nodes."
   ]
  },
  {
   "cell_type": "code",
   "execution_count": 15,
   "id": "dffcf40a",
   "metadata": {
    "tags": []
   },
   "outputs": [
    {
     "data": {
      "text/plain": [
       "{'node_revision_id': 13,\n",
       " 'node_id': 13,\n",
       " 'type': 'transform',\n",
       " 'name': 'repair_order_transform',\n",
       " 'display_name': 'Repair Order Transform',\n",
       " 'version': 'v1.0',\n",
       " 'status': 'valid',\n",
       " 'mode': 'published',\n",
       " 'catalog': {'id': 1,\n",
       "  'uuid': '81154f1d-f0fb-4106-b99e-3022704d775c',\n",
       "  'created_at': '2023-04-08T22:19:20.073591+00:00',\n",
       "  'updated_at': '2023-04-08T22:19:20.073638+00:00',\n",
       "  'extra_params': {},\n",
       "  'name': 'dj'},\n",
       " 'schema_': None,\n",
       " 'table': None,\n",
       " 'description': 'Repair order dimension',\n",
       " 'query': '\\n            SELECT\\n            repair_order_id,\\n            municipality_id,\\n            hard_hat_id,\\n            dispatcher_id\\n            FROM repair_orders\\n        ',\n",
       " 'availability': None,\n",
       " 'columns': [{'name': 'repair_order_id',\n",
       "   'type': 'int',\n",
       "   'attributes': [],\n",
       "   'dimension': None},\n",
       "  {'name': 'municipality_id',\n",
       "   'type': 'string',\n",
       "   'attributes': [],\n",
       "   'dimension': None},\n",
       "  {'name': 'hard_hat_id', 'type': 'int', 'attributes': [], 'dimension': None},\n",
       "  {'name': 'dispatcher_id',\n",
       "   'type': 'int',\n",
       "   'attributes': [],\n",
       "   'dimension': None}],\n",
       " 'updated_at': '2023-04-08T22:19:25.456232+00:00',\n",
       " 'materialization_configs': [],\n",
       " 'parents': [{'name': 'repair_orders'}],\n",
       " 'created_at': '2023-04-08T22:19:25.455507+00:00',\n",
       " 'tags': []}"
      ]
     },
     "execution_count": 15,
     "metadata": {},
     "output_type": "execute_result"
    }
   ],
   "source": [
    "response = requests.post(\n",
    "    f\"{DJ_URL}/nodes/transform/\",\n",
    "    json={\n",
    "        \"description\": \"Repair order dimension\",\n",
    "        \"query\": \"\"\"\n",
    "            SELECT\n",
    "            repair_order_id,\n",
    "            municipality_id,\n",
    "            hard_hat_id,\n",
    "            dispatcher_id\n",
    "            FROM repair_orders\n",
    "        \"\"\",\n",
    "        \"mode\": \"published\",\n",
    "        \"name\": \"repair_order_transform\",\n",
    "        \"type\": \"transform\",\n",
    "    },\n",
    ")\n",
    "response.json()"
   ]
  },
  {
   "cell_type": "code",
   "execution_count": 16,
   "id": "41d414c3",
   "metadata": {
    "tags": []
   },
   "outputs": [
    {
     "data": {
      "text/plain": [
       "{'node_revision_id': 14,\n",
       " 'node_id': 14,\n",
       " 'type': 'dimension',\n",
       " 'name': 'repair_order',\n",
       " 'display_name': 'Repair Order',\n",
       " 'version': 'v1.0',\n",
       " 'status': 'valid',\n",
       " 'mode': 'published',\n",
       " 'catalog': {'id': 1,\n",
       "  'uuid': '81154f1d-f0fb-4106-b99e-3022704d775c',\n",
       "  'created_at': '2023-04-08T22:19:20.073591+00:00',\n",
       "  'updated_at': '2023-04-08T22:19:20.073638+00:00',\n",
       "  'extra_params': {},\n",
       "  'name': 'dj'},\n",
       " 'schema_': None,\n",
       " 'table': None,\n",
       " 'description': 'Repair order dimension',\n",
       " 'query': '\\n            SELECT\\n            repair_order_id,\\n            municipality_id,\\n            hard_hat_id,\\n            dispatcher_id\\n            FROM repair_orders\\n        ',\n",
       " 'availability': None,\n",
       " 'columns': [{'name': 'repair_order_id',\n",
       "   'type': 'int',\n",
       "   'attributes': [],\n",
       "   'dimension': None},\n",
       "  {'name': 'municipality_id',\n",
       "   'type': 'string',\n",
       "   'attributes': [],\n",
       "   'dimension': None},\n",
       "  {'name': 'hard_hat_id', 'type': 'int', 'attributes': [], 'dimension': None},\n",
       "  {'name': 'dispatcher_id',\n",
       "   'type': 'int',\n",
       "   'attributes': [],\n",
       "   'dimension': None}],\n",
       " 'updated_at': '2023-04-08T22:19:26.721315+00:00',\n",
       " 'materialization_configs': [],\n",
       " 'parents': [{'name': 'repair_orders'}],\n",
       " 'created_at': '2023-04-08T22:19:26.720606+00:00',\n",
       " 'tags': []}"
      ]
     },
     "execution_count": 16,
     "metadata": {},
     "output_type": "execute_result"
    }
   ],
   "source": [
    "response = requests.post(\n",
    "    f\"{DJ_URL}/nodes/dimension/\",\n",
    "    json={\n",
    "        \"description\": \"Repair order dimension\",\n",
    "        \"query\": \"\"\"\n",
    "            SELECT\n",
    "            repair_order_id,\n",
    "            municipality_id,\n",
    "            hard_hat_id,\n",
    "            dispatcher_id\n",
    "            FROM repair_orders\n",
    "        \"\"\",\n",
    "        \"mode\": \"published\",\n",
    "        \"name\": \"repair_order\",\n",
    "    },\n",
    ")\n",
    "response.json()"
   ]
  },
  {
   "cell_type": "code",
   "execution_count": 17,
   "id": "4b61a229",
   "metadata": {
    "tags": []
   },
   "outputs": [
    {
     "data": {
      "text/plain": [
       "{'node_revision_id': 15,\n",
       " 'node_id': 15,\n",
       " 'type': 'dimension',\n",
       " 'name': 'contractor',\n",
       " 'display_name': 'Contractor',\n",
       " 'version': 'v1.0',\n",
       " 'status': 'invalid',\n",
       " 'mode': 'published',\n",
       " 'catalog': {'id': 1,\n",
       "  'uuid': '81154f1d-f0fb-4106-b99e-3022704d775c',\n",
       "  'created_at': '2023-04-08T22:19:20.073591+00:00',\n",
       "  'updated_at': '2023-04-08T22:19:20.073638+00:00',\n",
       "  'extra_params': {},\n",
       "  'name': 'dj'},\n",
       " 'schema_': None,\n",
       " 'table': None,\n",
       " 'description': 'Contractor dimension',\n",
       " 'query': '\\n            SELECT\\n            contractor_id,\\n            company_name,\\n            contact_name,\\n            contact_title,\\n            address,\\n            city,\\n            state,\\n            postal_code,\\n            country,\\n            phone\\n            FROM contractors\\n        ',\n",
       " 'availability': None,\n",
       " 'columns': [{'name': 'contractor_id',\n",
       "   'type': 'int',\n",
       "   'attributes': [],\n",
       "   'dimension': None},\n",
       "  {'name': 'company_name',\n",
       "   'type': 'string',\n",
       "   'attributes': [],\n",
       "   'dimension': None},\n",
       "  {'name': 'contact_name',\n",
       "   'type': 'string',\n",
       "   'attributes': [],\n",
       "   'dimension': None},\n",
       "  {'name': 'contact_title',\n",
       "   'type': 'string',\n",
       "   'attributes': [],\n",
       "   'dimension': None},\n",
       "  {'name': 'address', 'type': 'string', 'attributes': [], 'dimension': None},\n",
       "  {'name': 'city', 'type': 'string', 'attributes': [], 'dimension': None},\n",
       "  {'name': 'state', 'type': 'string', 'attributes': [], 'dimension': None},\n",
       "  {'name': 'postal_code',\n",
       "   'type': 'string',\n",
       "   'attributes': [],\n",
       "   'dimension': None},\n",
       "  {'name': 'country', 'type': 'string', 'attributes': [], 'dimension': None}],\n",
       " 'updated_at': '2023-04-08T22:19:27.086646+00:00',\n",
       " 'materialization_configs': [],\n",
       " 'parents': [{'name': 'contractors'}],\n",
       " 'created_at': '2023-04-08T22:19:27.085961+00:00',\n",
       " 'tags': []}"
      ]
     },
     "execution_count": 17,
     "metadata": {},
     "output_type": "execute_result"
    }
   ],
   "source": [
    "response = requests.post(\n",
    "    f\"{DJ_URL}/nodes/dimension/\",\n",
    "    json={\n",
    "        \"description\": \"Contractor dimension\",\n",
    "        \"query\": \"\"\"\n",
    "            SELECT\n",
    "            contractor_id,\n",
    "            company_name,\n",
    "            contact_name,\n",
    "            contact_title,\n",
    "            address,\n",
    "            city,\n",
    "            state,\n",
    "            postal_code,\n",
    "            country,\n",
    "            phone\n",
    "            FROM contractors\n",
    "        \"\"\",\n",
    "        \"mode\": \"published\",\n",
    "        \"name\": \"contractor\",\n",
    "    },\n",
    ")\n",
    "response.json()"
   ]
  },
  {
   "cell_type": "code",
   "execution_count": 18,
   "id": "9a866d4a",
   "metadata": {
    "tags": []
   },
   "outputs": [
    {
     "data": {
      "text/plain": [
       "{'node_revision_id': 16,\n",
       " 'node_id': 16,\n",
       " 'type': 'dimension',\n",
       " 'name': 'hard_hat',\n",
       " 'display_name': 'Hard Hat',\n",
       " 'version': 'v1.0',\n",
       " 'status': 'valid',\n",
       " 'mode': 'published',\n",
       " 'catalog': {'id': 1,\n",
       "  'uuid': '81154f1d-f0fb-4106-b99e-3022704d775c',\n",
       "  'created_at': '2023-04-08T22:19:20.073591+00:00',\n",
       "  'updated_at': '2023-04-08T22:19:20.073638+00:00',\n",
       "  'extra_params': {},\n",
       "  'name': 'dj'},\n",
       " 'schema_': None,\n",
       " 'table': None,\n",
       " 'description': 'Hard hat dimension',\n",
       " 'query': '\\n            SELECT\\n            hard_hat_id,\\n            last_name,\\n            first_name,\\n            title,\\n            birth_date,\\n            hire_date,\\n            address,\\n            city,\\n            state,\\n            postal_code,\\n            country,\\n            manager,\\n            contractor_id\\n            FROM hard_hats\\n        ',\n",
       " 'availability': None,\n",
       " 'columns': [{'name': 'hard_hat_id',\n",
       "   'type': 'int',\n",
       "   'attributes': [],\n",
       "   'dimension': None},\n",
       "  {'name': 'last_name', 'type': 'string', 'attributes': [], 'dimension': None},\n",
       "  {'name': 'first_name',\n",
       "   'type': 'string',\n",
       "   'attributes': [],\n",
       "   'dimension': None},\n",
       "  {'name': 'title', 'type': 'string', 'attributes': [], 'dimension': None},\n",
       "  {'name': 'birth_date', 'type': 'date', 'attributes': [], 'dimension': None},\n",
       "  {'name': 'hire_date', 'type': 'date', 'attributes': [], 'dimension': None},\n",
       "  {'name': 'address', 'type': 'string', 'attributes': [], 'dimension': None},\n",
       "  {'name': 'city', 'type': 'string', 'attributes': [], 'dimension': None},\n",
       "  {'name': 'state', 'type': 'string', 'attributes': [], 'dimension': None},\n",
       "  {'name': 'postal_code',\n",
       "   'type': 'string',\n",
       "   'attributes': [],\n",
       "   'dimension': None},\n",
       "  {'name': 'country', 'type': 'string', 'attributes': [], 'dimension': None},\n",
       "  {'name': 'manager', 'type': 'int', 'attributes': [], 'dimension': None},\n",
       "  {'name': 'contractor_id',\n",
       "   'type': 'int',\n",
       "   'attributes': [],\n",
       "   'dimension': None}],\n",
       " 'updated_at': '2023-04-08T22:19:27.501741+00:00',\n",
       " 'materialization_configs': [],\n",
       " 'parents': [{'name': 'hard_hats'}],\n",
       " 'created_at': '2023-04-08T22:19:27.501091+00:00',\n",
       " 'tags': []}"
      ]
     },
     "execution_count": 18,
     "metadata": {},
     "output_type": "execute_result"
    }
   ],
   "source": [
    "response = requests.post(\n",
    "    f\"{DJ_URL}/nodes/dimension/\",\n",
    "    json={\n",
    "        \"description\": \"Hard hat dimension\",\n",
    "        \"query\": \"\"\"\n",
    "            SELECT\n",
    "            hard_hat_id,\n",
    "            last_name,\n",
    "            first_name,\n",
    "            title,\n",
    "            birth_date,\n",
    "            hire_date,\n",
    "            address,\n",
    "            city,\n",
    "            state,\n",
    "            postal_code,\n",
    "            country,\n",
    "            manager,\n",
    "            contractor_id\n",
    "            FROM hard_hats\n",
    "        \"\"\",\n",
    "        \"mode\": \"published\",\n",
    "        \"name\": \"hard_hat\",\n",
    "    },\n",
    ")\n",
    "response.json()"
   ]
  },
  {
   "cell_type": "code",
   "execution_count": 19,
   "id": "d995d032",
   "metadata": {
    "tags": []
   },
   "outputs": [
    {
     "data": {
      "text/plain": [
       "{'node_revision_id': 17,\n",
       " 'node_id': 17,\n",
       " 'type': 'dimension',\n",
       " 'name': 'local_hard_hats',\n",
       " 'display_name': 'Local Hard Hats',\n",
       " 'version': 'v1.0',\n",
       " 'status': 'valid',\n",
       " 'mode': 'published',\n",
       " 'catalog': {'id': 1,\n",
       "  'uuid': '81154f1d-f0fb-4106-b99e-3022704d775c',\n",
       "  'created_at': '2023-04-08T22:19:20.073591+00:00',\n",
       "  'updated_at': '2023-04-08T22:19:20.073638+00:00',\n",
       "  'extra_params': {},\n",
       "  'name': 'dj'},\n",
       " 'schema_': None,\n",
       " 'table': None,\n",
       " 'description': 'Hard hat dimension',\n",
       " 'query': \"\\n            SELECT\\n            hh.hard_hat_id,\\n            last_name,\\n            first_name,\\n            title,\\n            birth_date,\\n            hire_date,\\n            address,\\n            city,\\n            state,\\n            postal_code,\\n            country,\\n            manager,\\n            contractor_id,\\n            hhs.state_id AS state_id\\n            FROM hard_hats hh\\n            LEFT JOIN hard_hat_state hhs\\n            ON hh.hard_hat_id = hhs.hard_hat_id\\n            WHERE hh.state_id = 'NY'\\n        \",\n",
       " 'availability': None,\n",
       " 'columns': [{'name': 'hard_hat_id',\n",
       "   'type': 'int',\n",
       "   'attributes': [],\n",
       "   'dimension': None},\n",
       "  {'name': 'last_name', 'type': 'string', 'attributes': [], 'dimension': None},\n",
       "  {'name': 'first_name',\n",
       "   'type': 'string',\n",
       "   'attributes': [],\n",
       "   'dimension': None},\n",
       "  {'name': 'title', 'type': 'string', 'attributes': [], 'dimension': None},\n",
       "  {'name': 'birth_date', 'type': 'date', 'attributes': [], 'dimension': None},\n",
       "  {'name': 'hire_date', 'type': 'date', 'attributes': [], 'dimension': None},\n",
       "  {'name': 'address', 'type': 'string', 'attributes': [], 'dimension': None},\n",
       "  {'name': 'city', 'type': 'string', 'attributes': [], 'dimension': None},\n",
       "  {'name': 'state', 'type': 'string', 'attributes': [], 'dimension': None},\n",
       "  {'name': 'postal_code',\n",
       "   'type': 'string',\n",
       "   'attributes': [],\n",
       "   'dimension': None},\n",
       "  {'name': 'country', 'type': 'string', 'attributes': [], 'dimension': None},\n",
       "  {'name': 'manager', 'type': 'int', 'attributes': [], 'dimension': None},\n",
       "  {'name': 'contractor_id',\n",
       "   'type': 'int',\n",
       "   'attributes': [],\n",
       "   'dimension': None},\n",
       "  {'name': 'state_id', 'type': 'string', 'attributes': [], 'dimension': None}],\n",
       " 'updated_at': '2023-04-08T22:19:27.963731+00:00',\n",
       " 'materialization_configs': [],\n",
       " 'parents': [{'name': 'hard_hats'}, {'name': 'hard_hat_state'}],\n",
       " 'created_at': '2023-04-08T22:19:27.963034+00:00',\n",
       " 'tags': []}"
      ]
     },
     "execution_count": 19,
     "metadata": {},
     "output_type": "execute_result"
    }
   ],
   "source": [
    "response = requests.post(\n",
    "    f\"{DJ_URL}/nodes/dimension/\",\n",
    "    json={\n",
    "        \"description\": \"Hard hat dimension\",\n",
    "        \"query\": \"\"\"\n",
    "            SELECT\n",
    "            hh.hard_hat_id,\n",
    "            last_name,\n",
    "            first_name,\n",
    "            title,\n",
    "            birth_date,\n",
    "            hire_date,\n",
    "            address,\n",
    "            city,\n",
    "            state,\n",
    "            postal_code,\n",
    "            country,\n",
    "            manager,\n",
    "            contractor_id,\n",
    "            hhs.state_id AS state_id\n",
    "            FROM hard_hats hh\n",
    "            LEFT JOIN hard_hat_state hhs\n",
    "            ON hh.hard_hat_id = hhs.hard_hat_id\n",
    "            WHERE hh.state_id = 'NY'\n",
    "        \"\"\",\n",
    "        \"mode\": \"published\",\n",
    "        \"name\": \"local_hard_hats\",\n",
    "    },\n",
    ")\n",
    "response.json()"
   ]
  },
  {
   "cell_type": "code",
   "execution_count": 20,
   "id": "0ebaa645",
   "metadata": {
    "tags": []
   },
   "outputs": [
    {
     "data": {
      "text/plain": [
       "{'node_revision_id': 18,\n",
       " 'node_id': 18,\n",
       " 'type': 'dimension',\n",
       " 'name': 'us_state',\n",
       " 'display_name': 'Us State',\n",
       " 'version': 'v1.0',\n",
       " 'status': 'valid',\n",
       " 'mode': 'published',\n",
       " 'catalog': {'id': 1,\n",
       "  'uuid': '81154f1d-f0fb-4106-b99e-3022704d775c',\n",
       "  'created_at': '2023-04-08T22:19:20.073591+00:00',\n",
       "  'updated_at': '2023-04-08T22:19:20.073638+00:00',\n",
       "  'extra_params': {},\n",
       "  'name': 'dj'},\n",
       " 'schema_': None,\n",
       " 'table': None,\n",
       " 'description': 'US state dimension',\n",
       " 'query': '\\n            SELECT\\n            state_id,\\n            state_name,\\n            state_abbr,\\n            state_region,\\n            r.us_region_description AS state_region_description\\n            FROM us_states s\\n            LEFT JOIN us_region r\\n            ON s.state_region = r.us_region_id\\n        ',\n",
       " 'availability': None,\n",
       " 'columns': [{'name': 'state_id',\n",
       "   'type': 'int',\n",
       "   'attributes': [],\n",
       "   'dimension': None},\n",
       "  {'name': 'state_name',\n",
       "   'type': 'string',\n",
       "   'attributes': [],\n",
       "   'dimension': None},\n",
       "  {'name': 'state_abbr',\n",
       "   'type': 'string',\n",
       "   'attributes': [],\n",
       "   'dimension': None},\n",
       "  {'name': 'state_region', 'type': 'int', 'attributes': [], 'dimension': None},\n",
       "  {'name': 'state_region_description',\n",
       "   'type': 'string',\n",
       "   'attributes': [],\n",
       "   'dimension': None}],\n",
       " 'updated_at': '2023-04-08T22:19:28.833992+00:00',\n",
       " 'materialization_configs': [],\n",
       " 'parents': [{'name': 'us_states'}, {'name': 'us_region'}],\n",
       " 'created_at': '2023-04-08T22:19:28.833355+00:00',\n",
       " 'tags': []}"
      ]
     },
     "execution_count": 20,
     "metadata": {},
     "output_type": "execute_result"
    }
   ],
   "source": [
    "response = requests.post(\n",
    "    f\"{DJ_URL}/nodes/dimension/\",\n",
    "    json={\n",
    "        \"description\": \"US state dimension\",\n",
    "        \"query\": \"\"\"\n",
    "            SELECT\n",
    "            state_id,\n",
    "            state_name,\n",
    "            state_abbr,\n",
    "            state_region,\n",
    "            r.us_region_description AS state_region_description\n",
    "            FROM us_states s\n",
    "            LEFT JOIN us_region r\n",
    "            ON s.state_region = r.us_region_id\n",
    "        \"\"\",\n",
    "        \"mode\": \"published\",\n",
    "        \"name\": \"us_state\",\n",
    "    },\n",
    ")\n",
    "response.json()"
   ]
  },
  {
   "cell_type": "code",
   "execution_count": 21,
   "id": "d2105f66",
   "metadata": {
    "tags": []
   },
   "outputs": [
    {
     "data": {
      "text/plain": [
       "{'node_revision_id': 19,\n",
       " 'node_id': 19,\n",
       " 'type': 'dimension',\n",
       " 'name': 'dispatcher',\n",
       " 'display_name': 'Dispatcher',\n",
       " 'version': 'v1.0',\n",
       " 'status': 'valid',\n",
       " 'mode': 'published',\n",
       " 'catalog': {'id': 1,\n",
       "  'uuid': '81154f1d-f0fb-4106-b99e-3022704d775c',\n",
       "  'created_at': '2023-04-08T22:19:20.073591+00:00',\n",
       "  'updated_at': '2023-04-08T22:19:20.073638+00:00',\n",
       "  'extra_params': {},\n",
       "  'name': 'dj'},\n",
       " 'schema_': None,\n",
       " 'table': None,\n",
       " 'description': 'Dispatcher dimension',\n",
       " 'query': '\\n            SELECT\\n            dispatcher_id,\\n            company_name,\\n            phone\\n            FROM dispatchers\\n        ',\n",
       " 'availability': None,\n",
       " 'columns': [{'name': 'dispatcher_id',\n",
       "   'type': 'int',\n",
       "   'attributes': [],\n",
       "   'dimension': None},\n",
       "  {'name': 'company_name',\n",
       "   'type': 'string',\n",
       "   'attributes': [],\n",
       "   'dimension': None},\n",
       "  {'name': 'phone', 'type': 'string', 'attributes': [], 'dimension': None}],\n",
       " 'updated_at': '2023-04-08T22:19:29.242740+00:00',\n",
       " 'materialization_configs': [],\n",
       " 'parents': [{'name': 'dispatchers'}],\n",
       " 'created_at': '2023-04-08T22:19:29.242044+00:00',\n",
       " 'tags': []}"
      ]
     },
     "execution_count": 21,
     "metadata": {},
     "output_type": "execute_result"
    }
   ],
   "source": [
    "response = requests.post(\n",
    "    f\"{DJ_URL}/nodes/dimension/\",\n",
    "    json={\n",
    "        \"description\": \"Dispatcher dimension\",\n",
    "        \"query\": \"\"\"\n",
    "            SELECT\n",
    "            dispatcher_id,\n",
    "            company_name,\n",
    "            phone\n",
    "            FROM dispatchers\n",
    "        \"\"\",\n",
    "        \"mode\": \"published\",\n",
    "        \"name\": \"dispatcher\",\n",
    "    },\n",
    ")\n",
    "response.json()"
   ]
  },
  {
   "cell_type": "code",
   "execution_count": 22,
   "id": "5e5b3210",
   "metadata": {
    "tags": []
   },
   "outputs": [
    {
     "data": {
      "text/plain": [
       "{'node_revision_id': 20,\n",
       " 'node_id': 20,\n",
       " 'type': 'dimension',\n",
       " 'name': 'municipality_dim',\n",
       " 'display_name': 'Municipality Dim',\n",
       " 'version': 'v1.0',\n",
       " 'status': 'valid',\n",
       " 'mode': 'published',\n",
       " 'catalog': {'id': 1,\n",
       "  'uuid': '81154f1d-f0fb-4106-b99e-3022704d775c',\n",
       "  'created_at': '2023-04-08T22:19:20.073591+00:00',\n",
       "  'updated_at': '2023-04-08T22:19:20.073638+00:00',\n",
       "  'extra_params': {},\n",
       "  'name': 'dj'},\n",
       " 'schema_': None,\n",
       " 'table': None,\n",
       " 'description': 'Municipality dimension',\n",
       " 'query': '\\n            SELECT\\n            m.municipality_id,\\n            contact_name,\\n            contact_title,\\n            local_region,\\n            state_id,\\n            mmt.municipality_type_id,\\n            mt.municipality_type_desc\\n            FROM municipality AS m\\n            LEFT JOIN municipality_municipality_type AS mmt\\n            ON m.municipality_id = mmt.municipality_id\\n            LEFT JOIN municipality_type AS mt\\n            ON mmt.municipality_type_id = mt.municipality_type_desc\\n        ',\n",
       " 'availability': None,\n",
       " 'columns': [{'name': 'municipality_id',\n",
       "   'type': 'string',\n",
       "   'attributes': [],\n",
       "   'dimension': None},\n",
       "  {'name': 'contact_name',\n",
       "   'type': 'string',\n",
       "   'attributes': [],\n",
       "   'dimension': None},\n",
       "  {'name': 'contact_title',\n",
       "   'type': 'string',\n",
       "   'attributes': [],\n",
       "   'dimension': None},\n",
       "  {'name': 'local_region',\n",
       "   'type': 'string',\n",
       "   'attributes': [],\n",
       "   'dimension': None},\n",
       "  {'name': 'state_id', 'type': 'int', 'attributes': [], 'dimension': None},\n",
       "  {'name': 'municipality_type_id',\n",
       "   'type': 'string',\n",
       "   'attributes': [],\n",
       "   'dimension': None},\n",
       "  {'name': 'municipality_type_desc',\n",
       "   'type': 'string',\n",
       "   'attributes': [],\n",
       "   'dimension': None}],\n",
       " 'updated_at': '2023-04-08T22:19:29.552735+00:00',\n",
       " 'materialization_configs': [],\n",
       " 'parents': [{'name': 'municipality_municipality_type'},\n",
       "  {'name': 'municipality_type'},\n",
       "  {'name': 'municipality'}],\n",
       " 'created_at': '2023-04-08T22:19:29.552039+00:00',\n",
       " 'tags': []}"
      ]
     },
     "execution_count": 22,
     "metadata": {},
     "output_type": "execute_result"
    }
   ],
   "source": [
    "response = requests.post(\n",
    "    f\"{DJ_URL}/nodes/dimension/\",\n",
    "    json={\n",
    "        \"description\": \"Municipality dimension\",\n",
    "        \"query\": \"\"\"\n",
    "            SELECT\n",
    "            m.municipality_id,\n",
    "            contact_name,\n",
    "            contact_title,\n",
    "            local_region,\n",
    "            state_id,\n",
    "            mmt.municipality_type_id,\n",
    "            mt.municipality_type_desc\n",
    "            FROM municipality AS m\n",
    "            LEFT JOIN municipality_municipality_type AS mmt\n",
    "            ON m.municipality_id = mmt.municipality_id\n",
    "            LEFT JOIN municipality_type AS mt\n",
    "            ON mmt.municipality_type_id = mt.municipality_type_desc\n",
    "        \"\"\",\n",
    "        \"mode\": \"published\",\n",
    "        \"name\": \"municipality_dim\",\n",
    "    },\n",
    ")\n",
    "response.json()"
   ]
  },
  {
   "cell_type": "markdown",
   "id": "d405291d",
   "metadata": {},
   "source": [
    "# Add Metrics\n",
    "\n",
    "Metrics are defined by writing a SQL query that performs an aggregation function on an expression using columns from any **single** source node, dimension node, or transform node. Here are some metrics that can be added to the DJ server.\n",
    "\n",
    "- `num_repair_orders` - Number of repair orders\n",
    "- `avg_repair_price` - Avg price of a repair order\n",
    "- `total_repair_cost` - Total price of a repair order\n",
    "- `avg_length_of_employment` - Avg length of employment\n",
    "- `total_repair_order_discounts` - Total discounts on repair orders\n",
    "- `avg_repair_order_discounts` - Avg discount on repair orders\n",
    "- `avg_time_to_dispatch` - Avg time to dispatch\n",
    "- `avg_time_to_dispatch_local` - Avg time to dispatch in NYC\n",
    "\n",
    "Each of these metrics can be grouped by any dimensions that are discoverable through dimension labels, such as `municipality`, `state`, `region`, `contractor`, `dispatcher`, or `hard_hat`."
   ]
  },
  {
   "cell_type": "code",
   "execution_count": 23,
   "id": "f87bc290",
   "metadata": {
    "tags": []
   },
   "outputs": [
    {
     "data": {
      "text/plain": [
       "{'node_revision_id': 21,\n",
       " 'node_id': 21,\n",
       " 'type': 'metric',\n",
       " 'name': 'num_repair_orders',\n",
       " 'display_name': 'Num Repair Orders',\n",
       " 'version': 'v1.0',\n",
       " 'status': 'valid',\n",
       " 'mode': 'published',\n",
       " 'catalog': {'id': 1,\n",
       "  'uuid': '81154f1d-f0fb-4106-b99e-3022704d775c',\n",
       "  'created_at': '2023-04-08T22:19:20.073591+00:00',\n",
       "  'updated_at': '2023-04-08T22:19:20.073638+00:00',\n",
       "  'extra_params': {},\n",
       "  'name': 'dj'},\n",
       " 'schema_': None,\n",
       " 'table': None,\n",
       " 'description': 'Number of repair orders',\n",
       " 'query': 'SELECT count(repair_order_id) as num_repair_orders FROM repair_orders',\n",
       " 'availability': None,\n",
       " 'columns': [{'name': 'num_repair_orders',\n",
       "   'type': 'long',\n",
       "   'attributes': [],\n",
       "   'dimension': None}],\n",
       " 'updated_at': '2023-04-08T22:19:30.091617+00:00',\n",
       " 'materialization_configs': [],\n",
       " 'parents': [{'name': 'repair_orders'}],\n",
       " 'created_at': '2023-04-08T22:19:30.090457+00:00',\n",
       " 'tags': []}"
      ]
     },
     "execution_count": 23,
     "metadata": {},
     "output_type": "execute_result"
    }
   ],
   "source": [
    "response = requests.post(\n",
    "    f\"{DJ_URL}/nodes/metric/\",\n",
    "    json={\n",
    "        \"description\": \"Number of repair orders\",\n",
    "        \"query\": \"SELECT count(repair_order_id) as num_repair_orders FROM repair_orders\",\n",
    "        \"mode\": \"published\",\n",
    "        \"name\": \"num_repair_orders\",\n",
    "    },\n",
    ")\n",
    "response.json()"
   ]
  },
  {
   "cell_type": "code",
   "execution_count": 24,
   "id": "be519eac",
   "metadata": {
    "tags": []
   },
   "outputs": [
    {
     "data": {
      "text/plain": [
       "{'node_revision_id': 22,\n",
       " 'node_id': 22,\n",
       " 'type': 'metric',\n",
       " 'name': 'avg_repair_price',\n",
       " 'display_name': 'Avg Repair Price',\n",
       " 'version': 'v1.0',\n",
       " 'status': 'valid',\n",
       " 'mode': 'published',\n",
       " 'catalog': {'id': 1,\n",
       "  'uuid': '81154f1d-f0fb-4106-b99e-3022704d775c',\n",
       "  'created_at': '2023-04-08T22:19:20.073591+00:00',\n",
       "  'updated_at': '2023-04-08T22:19:20.073638+00:00',\n",
       "  'extra_params': {},\n",
       "  'name': 'dj'},\n",
       " 'schema_': None,\n",
       " 'table': None,\n",
       " 'description': 'Average repair price',\n",
       " 'query': 'SELECT avg(price) as avg_repair_price FROM repair_order_details',\n",
       " 'availability': None,\n",
       " 'columns': [{'name': 'avg_repair_price',\n",
       "   'type': 'double',\n",
       "   'attributes': [],\n",
       "   'dimension': None}],\n",
       " 'updated_at': '2023-04-08T22:19:30.720282+00:00',\n",
       " 'materialization_configs': [],\n",
       " 'parents': [{'name': 'repair_order_details'}],\n",
       " 'created_at': '2023-04-08T22:19:30.719681+00:00',\n",
       " 'tags': []}"
      ]
     },
     "execution_count": 24,
     "metadata": {},
     "output_type": "execute_result"
    }
   ],
   "source": [
    "response = requests.post(\n",
    "    f\"{DJ_URL}/nodes/metric/\",\n",
    "    json={\n",
    "        \"description\": \"Average repair price\",\n",
    "        \"query\": \"SELECT avg(price) as avg_repair_price FROM repair_order_details\",\n",
    "        \"mode\": \"published\",\n",
    "        \"name\": \"avg_repair_price\",\n",
    "    },\n",
    ")\n",
    "response.json()"
   ]
  },
  {
   "cell_type": "code",
   "execution_count": 25,
   "id": "a8d229c3",
   "metadata": {
    "tags": []
   },
   "outputs": [
    {
     "data": {
      "text/plain": [
       "{'node_revision_id': 23,\n",
       " 'node_id': 23,\n",
       " 'type': 'metric',\n",
       " 'name': 'total_repair_cost',\n",
       " 'display_name': 'Total Repair Cost',\n",
       " 'version': 'v1.0',\n",
       " 'status': 'valid',\n",
       " 'mode': 'published',\n",
       " 'catalog': {'id': 1,\n",
       "  'uuid': '81154f1d-f0fb-4106-b99e-3022704d775c',\n",
       "  'created_at': '2023-04-08T22:19:20.073591+00:00',\n",
       "  'updated_at': '2023-04-08T22:19:20.073638+00:00',\n",
       "  'extra_params': {},\n",
       "  'name': 'dj'},\n",
       " 'schema_': None,\n",
       " 'table': None,\n",
       " 'description': 'Total repair cost',\n",
       " 'query': 'SELECT sum(price) as total_repair_cost FROM repair_order_details',\n",
       " 'availability': None,\n",
       " 'columns': [{'name': 'total_repair_cost',\n",
       "   'type': 'float',\n",
       "   'attributes': [],\n",
       "   'dimension': None}],\n",
       " 'updated_at': '2023-04-08T22:19:31.020193+00:00',\n",
       " 'materialization_configs': [],\n",
       " 'parents': [{'name': 'repair_order_details'}],\n",
       " 'created_at': '2023-04-08T22:19:31.019522+00:00',\n",
       " 'tags': []}"
      ]
     },
     "execution_count": 25,
     "metadata": {},
     "output_type": "execute_result"
    }
   ],
   "source": [
    "response = requests.post(\n",
    "    f\"{DJ_URL}/nodes/metric/\",\n",
    "    json={\n",
    "        \"description\": \"Total repair cost\",\n",
    "        \"query\": \"SELECT sum(price) as total_repair_cost FROM repair_order_details\",\n",
    "        \"mode\": \"published\",\n",
    "        \"name\": \"total_repair_cost\",\n",
    "    },\n",
    ")\n",
    "response.json()"
   ]
  },
  {
   "cell_type": "code",
   "execution_count": 26,
   "id": "ebaa0482",
   "metadata": {
    "tags": []
   },
   "outputs": [
    {
     "data": {
      "text/plain": [
       "{'node_revision_id': 24,\n",
       " 'node_id': 24,\n",
       " 'type': 'metric',\n",
       " 'name': 'avg_length_of_employment',\n",
       " 'display_name': 'Avg Length Of Employment',\n",
       " 'version': 'v1.0',\n",
       " 'status': 'invalid',\n",
       " 'mode': 'published',\n",
       " 'catalog': {'id': 1,\n",
       "  'uuid': '81154f1d-f0fb-4106-b99e-3022704d775c',\n",
       "  'created_at': '2023-04-08T22:19:20.073591+00:00',\n",
       "  'updated_at': '2023-04-08T22:19:20.073638+00:00',\n",
       "  'extra_params': {},\n",
       "  'name': 'dj'},\n",
       " 'schema_': None,\n",
       " 'table': None,\n",
       " 'description': 'Average length of employment',\n",
       " 'query': 'SELECT avg(NOW() - hire_date) as avg_length_of_employment FROM hard_hats',\n",
       " 'availability': None,\n",
       " 'columns': [],\n",
       " 'updated_at': '2023-04-08T22:19:31.332340+00:00',\n",
       " 'materialization_configs': [],\n",
       " 'parents': [{'name': 'hard_hats'}],\n",
       " 'created_at': '2023-04-08T22:19:31.331711+00:00',\n",
       " 'tags': []}"
      ]
     },
     "execution_count": 26,
     "metadata": {},
     "output_type": "execute_result"
    }
   ],
   "source": [
    "response = requests.post(\n",
    "    f\"{DJ_URL}/nodes/metric/\",\n",
    "    json={\n",
    "        \"description\": \"Average length of employment\",\n",
    "        \"query\": \"SELECT avg(NOW() - hire_date) as avg_length_of_employment FROM hard_hats\",\n",
    "        \"mode\": \"published\",\n",
    "        \"name\": \"avg_length_of_employment\",\n",
    "    },\n",
    ")\n",
    "response.json()"
   ]
  },
  {
   "cell_type": "code",
   "execution_count": 27,
   "id": "0144baf7",
   "metadata": {
    "tags": []
   },
   "outputs": [
    {
     "data": {
      "text/plain": [
       "{'node_revision_id': 25,\n",
       " 'node_id': 25,\n",
       " 'type': 'metric',\n",
       " 'name': 'total_repair_order_discounts',\n",
       " 'display_name': 'Total Repair Order Discounts',\n",
       " 'version': 'v1.0',\n",
       " 'status': 'valid',\n",
       " 'mode': 'published',\n",
       " 'catalog': {'id': 1,\n",
       "  'uuid': '81154f1d-f0fb-4106-b99e-3022704d775c',\n",
       "  'created_at': '2023-04-08T22:19:20.073591+00:00',\n",
       "  'updated_at': '2023-04-08T22:19:20.073638+00:00',\n",
       "  'extra_params': {},\n",
       "  'name': 'dj'},\n",
       " 'schema_': None,\n",
       " 'table': None,\n",
       " 'description': 'Total repair order discounts',\n",
       " 'query': 'SELECT sum(price * discount) as total_discount FROM repair_order_details',\n",
       " 'availability': None,\n",
       " 'columns': [{'name': 'total_discount',\n",
       "   'type': 'float',\n",
       "   'attributes': [],\n",
       "   'dimension': None}],\n",
       " 'updated_at': '2023-04-08T22:19:31.751562+00:00',\n",
       " 'materialization_configs': [],\n",
       " 'parents': [{'name': 'repair_order_details'}],\n",
       " 'created_at': '2023-04-08T22:19:31.750792+00:00',\n",
       " 'tags': []}"
      ]
     },
     "execution_count": 27,
     "metadata": {},
     "output_type": "execute_result"
    }
   ],
   "source": [
    "response = requests.post(\n",
    "    f\"{DJ_URL}/nodes/metric/\",\n",
    "    json={\n",
    "        \"description\": \"Total repair order discounts\",\n",
    "        \"query\": \"SELECT sum(price * discount) as total_discount FROM repair_order_details\",\n",
    "        \"mode\": \"published\",\n",
    "        \"name\": \"total_repair_order_discounts\",\n",
    "    },\n",
    ")\n",
    "response.json()"
   ]
  },
  {
   "cell_type": "code",
   "execution_count": 28,
   "id": "fce8e1f7",
   "metadata": {
    "tags": []
   },
   "outputs": [
    {
     "data": {
      "text/plain": [
       "{'node_revision_id': 26,\n",
       " 'node_id': 26,\n",
       " 'type': 'metric',\n",
       " 'name': 'avg_repair_order_discounts',\n",
       " 'display_name': 'Avg Repair Order Discounts',\n",
       " 'version': 'v1.0',\n",
       " 'status': 'valid',\n",
       " 'mode': 'published',\n",
       " 'catalog': {'id': 1,\n",
       "  'uuid': '81154f1d-f0fb-4106-b99e-3022704d775c',\n",
       "  'created_at': '2023-04-08T22:19:20.073591+00:00',\n",
       "  'updated_at': '2023-04-08T22:19:20.073638+00:00',\n",
       "  'extra_params': {},\n",
       "  'name': 'dj'},\n",
       " 'schema_': None,\n",
       " 'table': None,\n",
       " 'description': 'Total repair order discounts',\n",
       " 'query': 'SELECT avg(price * discount) as avg_repair_order_discount FROM repair_order_details',\n",
       " 'availability': None,\n",
       " 'columns': [{'name': 'avg_repair_order_discount',\n",
       "   'type': 'double',\n",
       "   'attributes': [],\n",
       "   'dimension': None}],\n",
       " 'updated_at': '2023-04-08T22:19:32.231952+00:00',\n",
       " 'materialization_configs': [],\n",
       " 'parents': [{'name': 'repair_order_details'}],\n",
       " 'created_at': '2023-04-08T22:19:32.231222+00:00',\n",
       " 'tags': []}"
      ]
     },
     "execution_count": 28,
     "metadata": {},
     "output_type": "execute_result"
    }
   ],
   "source": [
    "response = requests.post(\n",
    "    f\"{DJ_URL}/nodes/metric/\",\n",
    "    json={\n",
    "        \"description\": \"Total repair order discounts\",\n",
    "        \"query\": \"SELECT avg(price * discount) as avg_repair_order_discount FROM repair_order_details\",\n",
    "        \"mode\": \"published\",\n",
    "        \"name\": \"avg_repair_order_discounts\",\n",
    "    },\n",
    ")\n",
    "response.json()"
   ]
  },
  {
   "cell_type": "code",
   "execution_count": 29,
   "id": "cbba1585",
   "metadata": {
    "tags": []
   },
   "outputs": [
    {
     "data": {
      "text/plain": [
       "{'node_revision_id': 27,\n",
       " 'node_id': 27,\n",
       " 'type': 'metric',\n",
       " 'name': 'avg_time_to_dispatch',\n",
       " 'display_name': 'Avg Time To Dispatch',\n",
       " 'version': 'v1.0',\n",
       " 'status': 'invalid',\n",
       " 'mode': 'published',\n",
       " 'catalog': {'id': 1,\n",
       "  'uuid': '81154f1d-f0fb-4106-b99e-3022704d775c',\n",
       "  'created_at': '2023-04-08T22:19:20.073591+00:00',\n",
       "  'updated_at': '2023-04-08T22:19:20.073638+00:00',\n",
       "  'extra_params': {},\n",
       "  'name': 'dj'},\n",
       " 'schema_': None,\n",
       " 'table': None,\n",
       " 'description': 'Average time to dispatch a repair order',\n",
       " 'query': 'SELECT avg(dispatched_date - order_date) as avg_time_to_dispatch FROM repair_orders',\n",
       " 'availability': None,\n",
       " 'columns': [],\n",
       " 'updated_at': '2023-04-08T22:19:32.590924+00:00',\n",
       " 'materialization_configs': [],\n",
       " 'parents': [{'name': 'repair_orders'}],\n",
       " 'created_at': '2023-04-08T22:19:32.589789+00:00',\n",
       " 'tags': []}"
      ]
     },
     "execution_count": 29,
     "metadata": {},
     "output_type": "execute_result"
    }
   ],
   "source": [
    "response = requests.post(\n",
    "    f\"{DJ_URL}/nodes/metric/\",\n",
    "    json={\n",
    "        \"description\": \"Average time to dispatch a repair order\",\n",
    "        \"query\": \"SELECT avg(dispatched_date - order_date) as avg_time_to_dispatch FROM repair_orders\",\n",
    "        \"mode\": \"published\",\n",
    "        \"name\": \"avg_time_to_dispatch\",\n",
    "    },\n",
    ")\n",
    "response.json()"
   ]
  },
  {
   "cell_type": "markdown",
   "id": "a2edbf18",
   "metadata": {},
   "source": [
    "# Link Columns to Dimension Nodes\n",
    "\n",
    "Dimensions are discovered through labels on node columns throughout the DJ DAG. These labels link these columns to the primary key(s) of the dimension node. Create links to all columns in the DJ DAG to their corresponding dimension nodes."
   ]
  },
  {
   "cell_type": "code",
   "execution_count": 30,
   "id": "2bf208cc",
   "metadata": {
    "tags": []
   },
   "outputs": [
    {
     "data": {
      "text/plain": [
       "{'message': 'Dimension node repair_order has been successfully linked to column repair_order_id on node repair_order_details'}"
      ]
     },
     "execution_count": 30,
     "metadata": {},
     "output_type": "execute_result"
    }
   ],
   "source": [
    "response = requests.post(\n",
    "    f\"{DJ_URL}/nodes/repair_order_details/columns/repair_order_id/?dimension=repair_order&dimension_column=repair_order_id\"\n",
    ")\n",
    "response.json()"
   ]
  },
  {
   "cell_type": "code",
   "execution_count": 31,
   "id": "e5fe02fe",
   "metadata": {
    "tags": []
   },
   "outputs": [
    {
     "data": {
      "text/plain": [
       "{'message': 'Dimension node municipality_dim has been successfully linked to column municipality_id on node repair_orders'}"
      ]
     },
     "execution_count": 31,
     "metadata": {},
     "output_type": "execute_result"
    }
   ],
   "source": [
    "response = requests.post(\n",
    "    f\"{DJ_URL}/nodes/repair_orders/columns/municipality_id/?dimension=municipality_dim&dimension_column=municipality_id\"\n",
    ")\n",
    "response.json()"
   ]
  },
  {
   "cell_type": "code",
   "execution_count": 32,
   "id": "5237f6f3",
   "metadata": {
    "tags": []
   },
   "outputs": [
    {
     "data": {
      "text/plain": [
       "{'message': 'Dimension node contractor has been successfully linked to column contractor_id on node repair_type'}"
      ]
     },
     "execution_count": 32,
     "metadata": {},
     "output_type": "execute_result"
    }
   ],
   "source": [
    "response = requests.post(\n",
    "    f\"{DJ_URL}/nodes/repair_type/columns/contractor_id/?dimension=contractor&dimension_column=contractor_id\"\n",
    ")\n",
    "response.json()"
   ]
  },
  {
   "cell_type": "code",
   "execution_count": 33,
   "id": "e3370384",
   "metadata": {
    "tags": []
   },
   "outputs": [
    {
     "data": {
      "text/plain": [
       "{'message': 'Dimension node hard_hat has been successfully linked to column hard_hat_id on node repair_orders'}"
      ]
     },
     "execution_count": 33,
     "metadata": {},
     "output_type": "execute_result"
    }
   ],
   "source": [
    "response = requests.post(\n",
    "    f\"{DJ_URL}/nodes/repair_orders/columns/hard_hat_id/?dimension=hard_hat&dimension_column=hard_hat_id\"\n",
    ")\n",
    "response.json()"
   ]
  },
  {
   "cell_type": "code",
   "execution_count": 34,
   "id": "bb441b50",
   "metadata": {
    "tags": []
   },
   "outputs": [
    {
     "data": {
      "text/plain": [
       "{'message': 'Dimension node dispatcher has been successfully linked to column dispatcher_id on node repair_orders'}"
      ]
     },
     "execution_count": 34,
     "metadata": {},
     "output_type": "execute_result"
    }
   ],
   "source": [
    "response = requests.post(\n",
    "    f\"{DJ_URL}/nodes/repair_orders/columns/dispatcher_id/?dimension=dispatcher&dimension_column=dispatcher_id\"\n",
    ")\n",
    "response.json()"
   ]
  },
  {
   "cell_type": "code",
   "execution_count": 35,
   "id": "ab3ffde2",
   "metadata": {
    "tags": []
   },
   "outputs": [
    {
     "data": {
      "text/plain": [
       "{'message': 'Dimension node us_state has been successfully linked to column state_id on node local_hard_hats'}"
      ]
     },
     "execution_count": 35,
     "metadata": {},
     "output_type": "execute_result"
    }
   ],
   "source": [
    "response = requests.post(\n",
    "    f\"{DJ_URL}/nodes/local_hard_hats/columns/state_id/?dimension=us_state&dimension_column=state_id\"\n",
    ")\n",
    "response.json()"
   ]
  },
  {
   "cell_type": "code",
   "execution_count": 36,
   "id": "bad74cd5-d65d-406a-b458-ac6c8bd8b3d2",
   "metadata": {
    "tags": []
   },
   "outputs": [
    {
     "data": {
      "text/plain": [
       "{'message': 'Dimension node repair_order has been successfully linked to column repair_order_id on node repair_order_details'}"
      ]
     },
     "execution_count": 36,
     "metadata": {},
     "output_type": "execute_result"
    }
   ],
   "source": [
    "response = requests.post(\n",
    "    f\"{DJ_URL}/nodes/repair_order_details/columns/repair_order_id/?dimension=repair_order&dimension_column=repair_order_id\"\n",
    ")\n",
    "response.json()"
   ]
  },
  {
   "cell_type": "code",
   "execution_count": 37,
   "id": "d2da6f2e-2317-40b5-be29-b05dd9c09652",
   "metadata": {
    "tags": []
   },
   "outputs": [
    {
     "data": {
      "text/plain": [
       "{'message': 'Dimension node dispatcher has been successfully linked to column dispatcher_id on node repair_order'}"
      ]
     },
     "execution_count": 37,
     "metadata": {},
     "output_type": "execute_result"
    }
   ],
   "source": [
    "response = requests.post(\n",
    "    f\"{DJ_URL}/nodes/repair_order/columns/dispatcher_id/?dimension=dispatcher&dimension_column=dispatcher_id\"\n",
    ")\n",
    "response.json()"
   ]
  },
  {
   "cell_type": "code",
   "execution_count": 38,
   "id": "6bcbfc56-c53c-4ecf-aff5-38c8833b2a4c",
   "metadata": {
    "tags": []
   },
   "outputs": [
    {
     "data": {
      "text/plain": [
       "{'message': 'Dimension node hard_hat has been successfully linked to column hard_hat_id on node repair_order'}"
      ]
     },
     "execution_count": 38,
     "metadata": {},
     "output_type": "execute_result"
    }
   ],
   "source": [
    "response = requests.post(\n",
    "    f\"{DJ_URL}/nodes/repair_order/columns/hard_hat_id/?dimension=hard_hat&dimension_column=hard_hat_id\"\n",
    ")\n",
    "response.json()"
   ]
  },
  {
   "cell_type": "code",
   "execution_count": 39,
   "id": "db13b4f6-2966-4fdb-a716-4688d5e4ec81",
   "metadata": {
    "tags": []
   },
   "outputs": [
    {
     "data": {
      "text/plain": [
       "{'message': 'Dimension node municipality_dim has been successfully linked to column municipality_id on node repair_order'}"
      ]
     },
     "execution_count": 39,
     "metadata": {},
     "output_type": "execute_result"
    }
   ],
   "source": [
    "response = requests.post(\n",
    "    f\"{DJ_URL}/nodes/repair_order/columns/municipality_id/?dimension=municipality_dim&dimension_column=municipality_id\"\n",
    ")\n",
    "response.json()"
   ]
  },
  {
   "cell_type": "code",
   "execution_count": 40,
   "id": "b57c9e38-4bf4-492f-8c52-dec7d7191784",
   "metadata": {
    "tags": []
   },
   "outputs": [
    {
     "data": {
      "text/plain": [
       "{'message': 'Dimension node us_state has been successfully linked to column state on node hard_hat'}"
      ]
     },
     "execution_count": 40,
     "metadata": {},
     "output_type": "execute_result"
    }
   ],
   "source": [
    "response = requests.post(\n",
    "    f\"{DJ_URL}/nodes/hard_hat/columns/state/?dimension=us_state&dimension_column=state_abbr\"\n",
    ")\n",
    "response.json()"
   ]
  },
  {
   "cell_type": "markdown",
   "id": "c7c11045",
   "metadata": {},
   "source": [
    "# View All Existing Nodes\n",
    "\n",
    "Let's look at the full list of nodes that are now in the DJ system and can be used to generate queries."
   ]
  },
  {
   "cell_type": "code",
   "execution_count": 41,
   "id": "f3f61edb",
   "metadata": {
    "tags": []
   },
   "outputs": [
    {
     "name": "stdout",
     "output_type": "stream",
     "text": [
      "dimension -> contractor\n",
      "dimension -> dispatcher\n",
      "dimension -> hard_hat\n",
      "dimension -> local_hard_hats\n",
      "dimension -> municipality_dim\n",
      "dimension -> repair_order\n",
      "dimension -> us_state\n",
      "metric -> avg_length_of_employment\n",
      "metric -> avg_repair_order_discounts\n",
      "metric -> avg_repair_price\n",
      "metric -> avg_time_to_dispatch\n",
      "metric -> num_repair_orders\n",
      "metric -> total_repair_cost\n",
      "metric -> total_repair_order_discounts\n",
      "source -> contractors\n",
      "source -> dispatchers\n",
      "source -> hard_hat_state\n",
      "source -> hard_hats\n",
      "source -> municipality\n",
      "source -> municipality_municipality_type\n",
      "source -> municipality_type\n",
      "source -> repair_order_details\n",
      "source -> repair_orders\n",
      "source -> repair_type\n",
      "source -> us_region\n",
      "source -> us_states\n",
      "transform -> repair_order_transform\n"
     ]
    }
   ],
   "source": [
    "nodes = requests.get(f\"{DJ_URL}/nodes/\").json()\n",
    "for i in sorted([f\"{node['type']} -> {node['name']}\" for node in nodes]):\n",
    "    print(i)"
   ]
  },
  {
   "cell_type": "markdown",
   "id": "b94aede1",
   "metadata": {},
   "source": [
    "# Generate SQL Using Metrics & Dimensions\n",
    "\n",
    "You can now generate SQL queries for any metric and include any of the discoverable dimensions that you'd like to group it by. Let's list out the dimensions that are available for each metric in DJ."
   ]
  },
  {
   "cell_type": "code",
   "execution_count": 42,
   "id": "ccb90f88",
   "metadata": {
    "tags": []
   },
   "outputs": [
    {
     "name": "stdout",
     "output_type": "stream",
     "text": [
      "avg_length_of_employment\n",
      "---\n",
      "\n",
      "avg_repair_order_discounts\n",
      "---\n",
      "dispatcher.company_name\n",
      "dispatcher.dispatcher_id\n",
      "dispatcher.phone\n",
      "hard_hat.address\n",
      "hard_hat.birth_date\n",
      "hard_hat.city\n",
      "hard_hat.contractor_id\n",
      "hard_hat.country\n",
      "hard_hat.first_name\n",
      "hard_hat.hard_hat_id\n",
      "hard_hat.hire_date\n",
      "hard_hat.last_name\n",
      "hard_hat.manager\n",
      "hard_hat.postal_code\n",
      "hard_hat.state\n",
      "hard_hat.title\n",
      "municipality_dim.contact_name\n",
      "municipality_dim.contact_title\n",
      "municipality_dim.local_region\n",
      "municipality_dim.municipality_id\n",
      "municipality_dim.municipality_type_desc\n",
      "municipality_dim.municipality_type_id\n",
      "municipality_dim.state_id\n",
      "repair_order.dispatcher_id\n",
      "repair_order.hard_hat_id\n",
      "repair_order.municipality_id\n",
      "repair_order.repair_order_id\n",
      "us_state.state_abbr\n",
      "us_state.state_id\n",
      "us_state.state_name\n",
      "us_state.state_region\n",
      "us_state.state_region_description\n",
      "\n",
      "avg_repair_price\n",
      "---\n",
      "dispatcher.company_name\n",
      "dispatcher.dispatcher_id\n",
      "dispatcher.phone\n",
      "hard_hat.address\n",
      "hard_hat.birth_date\n",
      "hard_hat.city\n",
      "hard_hat.contractor_id\n",
      "hard_hat.country\n",
      "hard_hat.first_name\n",
      "hard_hat.hard_hat_id\n",
      "hard_hat.hire_date\n",
      "hard_hat.last_name\n",
      "hard_hat.manager\n",
      "hard_hat.postal_code\n",
      "hard_hat.state\n",
      "hard_hat.title\n",
      "municipality_dim.contact_name\n",
      "municipality_dim.contact_title\n",
      "municipality_dim.local_region\n",
      "municipality_dim.municipality_id\n",
      "municipality_dim.municipality_type_desc\n",
      "municipality_dim.municipality_type_id\n",
      "municipality_dim.state_id\n",
      "repair_order.dispatcher_id\n",
      "repair_order.hard_hat_id\n",
      "repair_order.municipality_id\n",
      "repair_order.repair_order_id\n",
      "us_state.state_abbr\n",
      "us_state.state_id\n",
      "us_state.state_name\n",
      "us_state.state_region\n",
      "us_state.state_region_description\n",
      "\n",
      "avg_time_to_dispatch\n",
      "---\n",
      "dispatcher.company_name\n",
      "dispatcher.dispatcher_id\n",
      "dispatcher.phone\n",
      "hard_hat.address\n",
      "hard_hat.birth_date\n",
      "hard_hat.city\n",
      "hard_hat.contractor_id\n",
      "hard_hat.country\n",
      "hard_hat.first_name\n",
      "hard_hat.hard_hat_id\n",
      "hard_hat.hire_date\n",
      "hard_hat.last_name\n",
      "hard_hat.manager\n",
      "hard_hat.postal_code\n",
      "hard_hat.state\n",
      "hard_hat.title\n",
      "municipality_dim.contact_name\n",
      "municipality_dim.contact_title\n",
      "municipality_dim.local_region\n",
      "municipality_dim.municipality_id\n",
      "municipality_dim.municipality_type_desc\n",
      "municipality_dim.municipality_type_id\n",
      "municipality_dim.state_id\n",
      "us_state.state_abbr\n",
      "us_state.state_id\n",
      "us_state.state_name\n",
      "us_state.state_region\n",
      "us_state.state_region_description\n",
      "\n",
      "num_repair_orders\n",
      "---\n",
      "dispatcher.company_name\n",
      "dispatcher.dispatcher_id\n",
      "dispatcher.phone\n",
      "hard_hat.address\n",
      "hard_hat.birth_date\n",
      "hard_hat.city\n",
      "hard_hat.contractor_id\n",
      "hard_hat.country\n",
      "hard_hat.first_name\n",
      "hard_hat.hard_hat_id\n",
      "hard_hat.hire_date\n",
      "hard_hat.last_name\n",
      "hard_hat.manager\n",
      "hard_hat.postal_code\n",
      "hard_hat.state\n",
      "hard_hat.title\n",
      "municipality_dim.contact_name\n",
      "municipality_dim.contact_title\n",
      "municipality_dim.local_region\n",
      "municipality_dim.municipality_id\n",
      "municipality_dim.municipality_type_desc\n",
      "municipality_dim.municipality_type_id\n",
      "municipality_dim.state_id\n",
      "us_state.state_abbr\n",
      "us_state.state_id\n",
      "us_state.state_name\n",
      "us_state.state_region\n",
      "us_state.state_region_description\n",
      "\n",
      "total_repair_cost\n",
      "---\n",
      "dispatcher.company_name\n",
      "dispatcher.dispatcher_id\n",
      "dispatcher.phone\n",
      "hard_hat.address\n",
      "hard_hat.birth_date\n",
      "hard_hat.city\n",
      "hard_hat.contractor_id\n",
      "hard_hat.country\n",
      "hard_hat.first_name\n",
      "hard_hat.hard_hat_id\n",
      "hard_hat.hire_date\n",
      "hard_hat.last_name\n",
      "hard_hat.manager\n",
      "hard_hat.postal_code\n",
      "hard_hat.state\n",
      "hard_hat.title\n",
      "municipality_dim.contact_name\n",
      "municipality_dim.contact_title\n",
      "municipality_dim.local_region\n",
      "municipality_dim.municipality_id\n",
      "municipality_dim.municipality_type_desc\n",
      "municipality_dim.municipality_type_id\n",
      "municipality_dim.state_id\n",
      "repair_order.dispatcher_id\n",
      "repair_order.hard_hat_id\n",
      "repair_order.municipality_id\n",
      "repair_order.repair_order_id\n",
      "us_state.state_abbr\n",
      "us_state.state_id\n",
      "us_state.state_name\n",
      "us_state.state_region\n",
      "us_state.state_region_description\n",
      "\n",
      "total_repair_order_discounts\n",
      "---\n",
      "dispatcher.company_name\n",
      "dispatcher.dispatcher_id\n",
      "dispatcher.phone\n",
      "hard_hat.address\n",
      "hard_hat.birth_date\n",
      "hard_hat.city\n",
      "hard_hat.contractor_id\n",
      "hard_hat.country\n",
      "hard_hat.first_name\n",
      "hard_hat.hard_hat_id\n",
      "hard_hat.hire_date\n",
      "hard_hat.last_name\n",
      "hard_hat.manager\n",
      "hard_hat.postal_code\n",
      "hard_hat.state\n",
      "hard_hat.title\n",
      "municipality_dim.contact_name\n",
      "municipality_dim.contact_title\n",
      "municipality_dim.local_region\n",
      "municipality_dim.municipality_id\n",
      "municipality_dim.municipality_type_desc\n",
      "municipality_dim.municipality_type_id\n",
      "municipality_dim.state_id\n",
      "repair_order.dispatcher_id\n",
      "repair_order.hard_hat_id\n",
      "repair_order.municipality_id\n",
      "repair_order.repair_order_id\n",
      "us_state.state_abbr\n",
      "us_state.state_id\n",
      "us_state.state_name\n",
      "us_state.state_region\n",
      "us_state.state_region_description\n",
      "\n"
     ]
    }
   ],
   "source": [
    "for metric in [\n",
    "    \"avg_length_of_employment\",\n",
    "    \"avg_repair_order_discounts\",\n",
    "    \"avg_repair_price\",\n",
    "    \"avg_time_to_dispatch\",\n",
    "    \"num_repair_orders\",\n",
    "    \"total_repair_cost\",\n",
    "    \"total_repair_order_discounts\",\n",
    "]:\n",
    "    response = requests.get(\n",
    "        f\"{DJ_URL}/metrics/{metric}/\",\n",
    "    )\n",
    "    metric_metadata = response.json()\n",
    "    print(metric)\n",
    "    print(\"---\")\n",
    "    for dimension in metric_metadata[\"dimensions\"]:\n",
    "        print(dimension)\n",
    "    print()"
   ]
  },
  {
   "cell_type": "markdown",
   "id": "f949edf8",
   "metadata": {},
   "source": [
    "### Using the metric SQL endpoint, let's generate some SQL for a few metrics, grouped by dimensions."
   ]
  },
  {
   "cell_type": "code",
   "execution_count": 43,
   "id": "22f78085",
   "metadata": {
    "tags": []
   },
   "outputs": [
    {
     "name": "stdout",
     "output_type": "stream",
     "text": [
      "SELECT  hard_hat.first_name,\n",
      "\thard_hat.last_name,\n",
      "\tcount(repair_orders.repair_order_id) AS num_repair_orders \n",
      " FROM roads.repair_orders AS repair_orders LEFT OUTER JOIN (SELECT  hard_hats.address,\n",
      "\thard_hats.birth_date,\n",
      "\thard_hats.city,\n",
      "\thard_hats.contractor_id,\n",
      "\thard_hats.country,\n",
      "\thard_hats.first_name,\n",
      "\thard_hats.hard_hat_id,\n",
      "\thard_hats.hire_date,\n",
      "\thard_hats.last_name,\n",
      "\thard_hats.manager,\n",
      "\thard_hats.postal_code,\n",
      "\thard_hats.state,\n",
      "\thard_hats.title \n",
      " FROM roads.hard_hats AS hard_hats) AS hard_hat ON repair_orders.hard_hat_id = hard_hat.hard_hat_id \n",
      " GROUP BY  hard_hat.first_name, hard_hat.last_name\n",
      "\n"
     ]
    }
   ],
   "source": [
    "response = requests.get(\n",
    "    f\"{DJ_URL}/sql/num_repair_orders/?dimensions=hard_hat.first_name,hard_hat.last_name\",\n",
    ")\n",
    "print(response.json()[\"sql\"])"
   ]
  },
  {
   "cell_type": "code",
   "execution_count": 44,
   "id": "960b072c",
   "metadata": {
    "tags": []
   },
   "outputs": [
    {
     "name": "stdout",
     "output_type": "stream",
     "text": [
      "SELECT  repair_order.hard_hat_id,\n",
      "\tsum(repair_order_details.price * repair_order_details.discount) AS total_discount \n",
      " FROM roads.repair_order_details AS repair_order_details LEFT OUTER JOIN (SELECT  repair_orders.dispatcher_id,\n",
      "\trepair_orders.hard_hat_id,\n",
      "\trepair_orders.municipality_id,\n",
      "\trepair_orders.repair_order_id \n",
      " FROM roads.repair_orders AS repair_orders) AS repair_order ON repair_order_details.repair_order_id = repair_order.repair_order_id \n",
      " GROUP BY  repair_order.hard_hat_id\n",
      "\n"
     ]
    }
   ],
   "source": [
    "response = requests.get(\n",
    "    f\"{DJ_URL}/sql/total_repair_order_discounts/?dimensions=repair_order.hard_hat_id\",\n",
    ")\n",
    "print(response.json()[\"sql\"])"
   ]
  },
  {
   "cell_type": "code",
   "execution_count": 45,
   "id": "f8fea581",
   "metadata": {
    "tags": []
   },
   "outputs": [
    {
     "name": "stdout",
     "output_type": "stream",
     "text": [
      "SELECT  avg(repair_order_details.price) AS avg_repair_price,\n",
      "\thard_hat.city \n",
      " FROM roads.repair_order_details AS repair_order_details LEFT OUTER JOIN (SELECT  repair_orders.dispatcher_id,\n",
      "\trepair_orders.hard_hat_id,\n",
      "\trepair_orders.municipality_id,\n",
      "\trepair_orders.repair_order_id \n",
      " FROM roads.repair_orders AS repair_orders) AS repair_order ON repair_order_details.repair_order_id = repair_order.repair_order_id\n",
      "LEFT OUTER JOIN (SELECT  hard_hats.address,\n",
      "\thard_hats.birth_date,\n",
      "\thard_hats.city,\n",
      "\thard_hats.contractor_id,\n",
      "\thard_hats.country,\n",
      "\thard_hats.first_name,\n",
      "\thard_hats.hard_hat_id,\n",
      "\thard_hats.hire_date,\n",
      "\thard_hats.last_name,\n",
      "\thard_hats.manager,\n",
      "\thard_hats.postal_code,\n",
      "\thard_hats.state,\n",
      "\thard_hats.title \n",
      " FROM roads.hard_hats AS hard_hats) AS hard_hat ON repair_order.hard_hat_id = hard_hat.hard_hat_id \n",
      " GROUP BY  hard_hat.city\n",
      "\n"
     ]
    }
   ],
   "source": [
    "response = requests.get(\n",
    "    f\"{DJ_URL}/sql/avg_repair_price/?dimensions=hard_hat.city\",\n",
    ")\n",
    "print(response.json()[\"sql\"])"
   ]
  },
  {
   "cell_type": "markdown",
   "id": "9d79622a",
   "metadata": {},
   "source": [
    "# Report Materializations by Setting Availability on a Node"
   ]
  },
  {
   "cell_type": "markdown",
   "id": "d65c0337",
   "metadata": {},
   "source": [
    "Materializations can be reported by adding an `availability` to a node. When DJ builds the query, it will use any availability states it finds. Let's add an availability to the `repair_order` dimension node."
   ]
  },
  {
   "cell_type": "raw",
   "id": "c98818af",
   "metadata": {
    "tags": []
   },
   "source": [
    "# Add an availability for the contractor dimension node\n",
    "response = requests.post(\n",
    "    f\"{DJ_URL}/data/repair_order/availability/\",\n",
    "    json={\n",
    "        \"catalog\": \"dj\",\n",
    "        \"schema_\": \"roads\",\n",
    "        \"table\": \"repair_order_materialization_123\",\n",
    "        \"valid_through_ts\": 20230306,\n",
    "        \"max_partition\": [\"20230305\"],\n",
    "        \"min_partition\": [\"20230304\"],\n",
    "    },\n",
    ")\n",
    "response.json()"
   ]
  },
  {
   "cell_type": "markdown",
   "id": "aae078e9",
   "metadata": {
    "tags": []
   },
   "source": [
    "### Now the same request that includes the `repair_order` dimension will use the `availability` that it finds."
   ]
  },
  {
   "cell_type": "code",
   "execution_count": 46,
   "id": "c069f3ff",
   "metadata": {
    "tags": []
   },
   "outputs": [
    {
     "name": "stdout",
     "output_type": "stream",
     "text": [
      "SELECT  avg(repair_order_details.price) AS avg_repair_price,\n",
      "\trepair_order.municipality_id \n",
      " FROM roads.repair_order_details AS repair_order_details LEFT OUTER JOIN (SELECT  repair_orders.dispatcher_id,\n",
      "\trepair_orders.hard_hat_id,\n",
      "\trepair_orders.municipality_id,\n",
      "\trepair_orders.repair_order_id \n",
      " FROM roads.repair_orders AS repair_orders) AS repair_order ON repair_order_details.repair_order_id = repair_order.repair_order_id \n",
      " GROUP BY  repair_order.municipality_id\n",
      "\n"
     ]
    }
   ],
   "source": [
    "response = requests.get(\n",
    "    f\"{DJ_URL}/sql/avg_repair_price/?dimensions=repair_order.municipality_id\",\n",
    ")\n",
    "print(response.json()[\"sql\"])"
   ]
  },
  {
   "cell_type": "markdown",
   "id": "5760cfc8-967f-4a8a-8539-cc06e21aa042",
   "metadata": {
    "tags": []
   },
   "source": [
    "# Requesting Data for Metrics and Dimensions"
   ]
  },
  {
   "cell_type": "markdown",
   "id": "09cca0fe-1653-4fe8-b7c2-29727842911e",
   "metadata": {
    "tags": []
   },
   "source": [
    "### In addition to requesting SQL, you can also request data for a specific set of metrics and dimensions. This will generate and execute the query and return the results."
   ]
  },
  {
   "cell_type": "code",
   "execution_count": 47,
   "id": "1d28d942-e41f-4da4-89d7-a6eb62d0d145",
   "metadata": {
    "tags": []
   },
   "outputs": [
    {
     "name": "stdout",
     "output_type": "stream",
     "text": [
      "{'id': '91ceaba4-0e28-4711-8963-453d80f7967f', 'engine_name': 'duckdb', 'engine_version': '0.7.1', 'submitted_query': 'SELECT  hard_hats.address,\\n\\thard_hats.birth_date,\\n\\thard_hats.city,\\n\\thard_hats.contractor_id,\\n\\thard_hats.country,\\n\\thard_hats.first_name,\\n\\thard_hats.hard_hat_id,\\n\\thard_hats.hire_date,\\n\\thard_hats.last_name,\\n\\thard_hats.manager,\\n\\thard_hats.postal_code,\\n\\thard_hats.state,\\n\\thard_hats.title \\n FROM roads.hard_hats AS hard_hats\\n', 'executed_query': 'SELECT  hard_hats.address,\\n\\thard_hats.birth_date,\\n\\thard_hats.city,\\n\\thard_hats.contractor_id,\\n\\thard_hats.country,\\n\\thard_hats.first_name,\\n\\thard_hats.hard_hat_id,\\n\\thard_hats.hire_date,\\n\\thard_hats.last_name,\\n\\thard_hats.manager,\\n\\thard_hats.postal_code,\\n\\thard_hats.state,\\n\\thard_hats.title \\n FROM roads.hard_hats AS hard_hats\\n', 'scheduled': '2023-04-08T22:19:42.132250', 'started': '2023-04-08T22:19:42.132616', 'finished': '2023-04-08T22:19:42.266657', 'state': 'FINISHED', 'progress': 1.0, 'output_table': None, 'results': [{'sql': 'SELECT  hard_hats.address,\\n\\thard_hats.birth_date,\\n\\thard_hats.city,\\n\\thard_hats.contractor_id,\\n\\thard_hats.country,\\n\\thard_hats.first_name,\\n\\thard_hats.hard_hat_id,\\n\\thard_hats.hire_date,\\n\\thard_hats.last_name,\\n\\thard_hats.manager,\\n\\thard_hats.postal_code,\\n\\thard_hats.state,\\n\\thard_hats.title \\n FROM roads.hard_hats AS hard_hats\\n', 'columns': [], 'rows': [['4 Jennings Ave.', '1978-11-28', 'Jersey City', 1, 'USA', 'Perkins', 1, '2009-02-06', 'Brian', 9, '37421', 'NJ', 'Construction Laborer'], ['9373 Southampton Street', '1993-02-19', 'Middletown', 1, 'USA', 'Massey', 2, '2003-04-14', 'Nicholas', 9, '27292', 'CT', 'Carpenter'], ['4 Hillside Street', '1994-08-30', 'Billerica', 2, 'USA', 'Best', 3, '1990-07-02', 'Cathy', 9, '13440', 'MA', 'Framer'], ['77 Studebaker Lane', '1966-03-19', 'Southampton', 2, 'USA', 'Stafford', 4, '2003-02-02', 'Melanie', 9, '71730', 'PA', 'Construction Manager'], ['82 Taylor Drive', '1983-03-14', 'Southgate', 4, 'USA', 'Riley', 5, '2012-01-13', 'Donna', 9, '33125', 'MI', 'Pre-construction Manager'], ['7729 Catherine Street', '1979-01-12', 'Powder Springs', 2, 'USA', 'Clarke', 6, '2013-10-17', 'Alfred', 9, '42001', 'GA', 'Construction Superintendent'], ['1 Border St.', '1970-02-28', 'Niagara Falls', 4, 'USA', 'Boone', 7, '2013-01-02', 'William', 9, '14304', 'NY', 'Construction Laborer'], ['794 S. Chapel Ave.', '1988-12-09', 'Phoenix', 1, 'USA', 'Henderson', 8, '2013-03-05', 'Luka', 9, '85021', 'AZ', 'Construction Laborer'], ['321 Gainsway Circle', '1976-11-27', 'Muskogee', 3, 'USA', 'Ziegler', 9, '2020-11-15', 'Patrick', 9, '74403', 'OK', 'Construction Laborer'], ['4 Jennings Ave.', '1978-11-28', 'Jersey City', 1, 'USA', 'Perkins', 1, '2009-02-06', 'Brian', 9, '37421', 'NJ', 'Construction Laborer'], ['9373 Southampton Street', '1993-02-19', 'Middletown', 1, 'USA', 'Massey', 2, '2003-04-14', 'Nicholas', 9, '27292', 'CT', 'Carpenter'], ['4 Hillside Street', '1994-08-30', 'Billerica', 2, 'USA', 'Best', 3, '1990-07-02', 'Cathy', 9, '13440', 'MA', 'Framer'], ['77 Studebaker Lane', '1966-03-19', 'Southampton', 2, 'USA', 'Stafford', 4, '2003-02-02', 'Melanie', 9, '71730', 'PA', 'Construction Manager'], ['82 Taylor Drive', '1983-03-14', 'Southgate', 4, 'USA', 'Riley', 5, '2012-01-13', 'Donna', 9, '33125', 'MI', 'Pre-construction Manager'], ['7729 Catherine Street', '1979-01-12', 'Powder Springs', 2, 'USA', 'Clarke', 6, '2013-10-17', 'Alfred', 9, '42001', 'GA', 'Construction Superintendent'], ['1 Border St.', '1970-02-28', 'Niagara Falls', 4, 'USA', 'Boone', 7, '2013-01-02', 'William', 9, '14304', 'NY', 'Construction Laborer'], ['794 S. Chapel Ave.', '1988-12-09', 'Phoenix', 1, 'USA', 'Henderson', 8, '2013-03-05', 'Luka', 9, '85021', 'AZ', 'Construction Laborer'], ['321 Gainsway Circle', '1976-11-27', 'Muskogee', 3, 'USA', 'Ziegler', 9, '2020-11-15', 'Patrick', 9, '74403', 'OK', 'Construction Laborer'], ['4 Jennings Ave.', '1978-11-28', 'Jersey City', 1, 'USA', 'Perkins', 1, '2009-02-06', 'Brian', 9, '37421', 'NJ', 'Construction Laborer'], ['9373 Southampton Street', '1993-02-19', 'Middletown', 1, 'USA', 'Massey', 2, '2003-04-14', 'Nicholas', 9, '27292', 'CT', 'Carpenter'], ['4 Hillside Street', '1994-08-30', 'Billerica', 2, 'USA', 'Best', 3, '1990-07-02', 'Cathy', 9, '13440', 'MA', 'Framer'], ['77 Studebaker Lane', '1966-03-19', 'Southampton', 2, 'USA', 'Stafford', 4, '2003-02-02', 'Melanie', 9, '71730', 'PA', 'Construction Manager'], ['82 Taylor Drive', '1983-03-14', 'Southgate', 4, 'USA', 'Riley', 5, '2012-01-13', 'Donna', 9, '33125', 'MI', 'Pre-construction Manager'], ['7729 Catherine Street', '1979-01-12', 'Powder Springs', 2, 'USA', 'Clarke', 6, '2013-10-17', 'Alfred', 9, '42001', 'GA', 'Construction Superintendent'], ['1 Border St.', '1970-02-28', 'Niagara Falls', 4, 'USA', 'Boone', 7, '2013-01-02', 'William', 9, '14304', 'NY', 'Construction Laborer'], ['794 S. Chapel Ave.', '1988-12-09', 'Phoenix', 1, 'USA', 'Henderson', 8, '2013-03-05', 'Luka', 9, '85021', 'AZ', 'Construction Laborer'], ['321 Gainsway Circle', '1976-11-27', 'Muskogee', 3, 'USA', 'Ziegler', 9, '2020-11-15', 'Patrick', 9, '74403', 'OK', 'Construction Laborer']], 'row_count': 27}], 'next': None, 'previous': None, 'errors': []}\n"
     ]
    }
   ],
   "source": [
    "response = requests.get(\n",
    "    f\"{DJ_URL}/data/hard_hat/\",\n",
    ")\n",
    "print(response.json())"
   ]
  },
  {
   "cell_type": "code",
   "execution_count": 48,
   "id": "14a5d5ac-1417-4e59-9438-ddad3b2d4245",
   "metadata": {
    "tags": []
   },
   "outputs": [
    {
     "name": "stdout",
     "output_type": "stream",
     "text": [
      "{'id': 'ac349f5f-5162-4232-a368-5e945bf7c98a', 'engine_name': 'duckdb', 'engine_version': '0.7.1', 'submitted_query': 'SELECT  hard_hat.first_name,\\n\\thard_hat.last_name,\\n\\tcount(repair_orders.repair_order_id) AS num_repair_orders \\n FROM roads.repair_orders AS repair_orders LEFT OUTER JOIN (SELECT  hard_hats.address,\\n\\thard_hats.birth_date,\\n\\thard_hats.city,\\n\\thard_hats.contractor_id,\\n\\thard_hats.country,\\n\\thard_hats.first_name,\\n\\thard_hats.hard_hat_id,\\n\\thard_hats.hire_date,\\n\\thard_hats.last_name,\\n\\thard_hats.manager,\\n\\thard_hats.postal_code,\\n\\thard_hats.state,\\n\\thard_hats.title \\n FROM roads.hard_hats AS hard_hats) AS hard_hat ON repair_orders.hard_hat_id = hard_hat.hard_hat_id \\n GROUP BY  hard_hat.first_name, hard_hat.last_name\\n', 'executed_query': 'SELECT  hard_hat.first_name,\\n\\thard_hat.last_name,\\n\\tcount(repair_orders.repair_order_id) AS num_repair_orders \\n FROM roads.repair_orders AS repair_orders LEFT OUTER JOIN (SELECT  hard_hats.address,\\n\\thard_hats.birth_date,\\n\\thard_hats.city,\\n\\thard_hats.contractor_id,\\n\\thard_hats.country,\\n\\thard_hats.first_name,\\n\\thard_hats.hard_hat_id,\\n\\thard_hats.hire_date,\\n\\thard_hats.last_name,\\n\\thard_hats.manager,\\n\\thard_hats.postal_code,\\n\\thard_hats.state,\\n\\thard_hats.title \\n FROM roads.hard_hats AS hard_hats) AS hard_hat ON repair_orders.hard_hat_id = hard_hat.hard_hat_id \\n GROUP BY  hard_hat.first_name, hard_hat.last_name\\n', 'scheduled': '2023-04-08T22:19:43.255828', 'started': '2023-04-08T22:19:43.256046', 'finished': '2023-04-08T22:19:43.373779', 'state': 'FINISHED', 'progress': 1.0, 'output_table': None, 'results': [{'sql': 'SELECT  hard_hat.first_name,\\n\\thard_hat.last_name,\\n\\tcount(repair_orders.repair_order_id) AS num_repair_orders \\n FROM roads.repair_orders AS repair_orders LEFT OUTER JOIN (SELECT  hard_hats.address,\\n\\thard_hats.birth_date,\\n\\thard_hats.city,\\n\\thard_hats.contractor_id,\\n\\thard_hats.country,\\n\\thard_hats.first_name,\\n\\thard_hats.hard_hat_id,\\n\\thard_hats.hire_date,\\n\\thard_hats.last_name,\\n\\thard_hats.manager,\\n\\thard_hats.postal_code,\\n\\thard_hats.state,\\n\\thard_hats.title \\n FROM roads.hard_hats AS hard_hats) AS hard_hat ON repair_orders.hard_hat_id = hard_hat.hard_hat_id \\n GROUP BY  hard_hat.first_name, hard_hat.last_name\\n', 'columns': [], 'rows': [['Perkins', 'Brian', 36], ['Best', 'Cathy', 27], ['Riley', 'Donna', 45], ['Henderson', 'Luka', 18], ['Stafford', 'Melanie', 36], ['Clarke', 'Alfred', 27], ['Massey', 'Nicholas', 18], ['Ziegler', 'Patrick', 9], ['Boone', 'William', 9]], 'row_count': 9}], 'next': None, 'previous': None, 'errors': []}\n"
     ]
    }
   ],
   "source": [
    "response = requests.get(\n",
    "    f\"{DJ_URL}/data/num_repair_orders/?dimensions=hard_hat.first_name,hard_hat.last_name\",\n",
    ")\n",
    "print(response.json())"
   ]
  },
  {
   "cell_type": "code",
   "execution_count": 2,
   "id": "e1978c7c",
   "metadata": {
    "tags": []
   },
   "outputs": [],
   "source": [
    "response = requests.get(\n",
    "    f\"{DJ_URL}/data/total_repair_order_discounts/?dimensions=repair_order.hard_hat_id\",\n",
    ")"
   ]
  },
  {
   "cell_type": "code",
   "execution_count": 4,
   "id": "60dae872",
   "metadata": {},
   "outputs": [
    {
     "data": {
      "text/plain": [
       "{'sql': 'SELECT  repair_order.hard_hat_id,\\n\\tsum(repair_order_details.price * repair_order_details.discount) AS total_discount \\n FROM roads.repair_order_details AS repair_order_details LEFT OUTER JOIN (SELECT  repair_orders.dispatcher_id,\\n\\trepair_orders.hard_hat_id,\\n\\trepair_orders.municipality_id,\\n\\trepair_orders.repair_order_id \\n FROM roads.repair_orders AS repair_orders) AS repair_order ON repair_order_details.repair_order_id = repair_order.repair_order_id \\n GROUP BY  repair_order.hard_hat_id\\n',\n",
       " 'columns': [],\n",
       " 'rows': [[1, 49275.99124145508],\n",
       "  [2, 7074.269989013672],\n",
       "  [3, 103349.70043945312],\n",
       "  [4, 78776.46112060547],\n",
       "  [5, 60526.530670166016],\n",
       "  [6, 17710.829956054688],\n",
       "  [7, 4803.659912109375],\n",
       "  [8, 39349.44140625],\n",
       "  [9, 6337.619934082031]],\n",
       " 'row_count': 9}"
      ]
     },
     "execution_count": 4,
     "metadata": {},
     "output_type": "execute_result"
    }
   ],
   "source": [
    "response.json()['results'][0]"
   ]
  },
  {
   "cell_type": "code",
   "execution_count": 49,
   "id": "27a03f70-66f7-4166-8883-95576f5e86be",
   "metadata": {
    "tags": []
   },
   "outputs": [
    {
     "name": "stdout",
     "output_type": "stream",
     "text": [
      "{'id': 'b7abf011-f3d9-40f2-9128-3d7532cb3781', 'engine_name': 'duckdb', 'engine_version': '0.7.1', 'submitted_query': 'SELECT  repair_order.hard_hat_id,\\n\\tsum(repair_order_details.price * repair_order_details.discount) AS total_discount \\n FROM roads.repair_order_details AS repair_order_details LEFT OUTER JOIN (SELECT  repair_orders.dispatcher_id,\\n\\trepair_orders.hard_hat_id,\\n\\trepair_orders.municipality_id,\\n\\trepair_orders.repair_order_id \\n FROM roads.repair_orders AS repair_orders) AS repair_order ON repair_order_details.repair_order_id = repair_order.repair_order_id \\n GROUP BY  repair_order.hard_hat_id\\n', 'executed_query': 'SELECT  repair_order.hard_hat_id,\\n\\tsum(repair_order_details.price * repair_order_details.discount) AS total_discount \\n FROM roads.repair_order_details AS repair_order_details LEFT OUTER JOIN (SELECT  repair_orders.dispatcher_id,\\n\\trepair_orders.hard_hat_id,\\n\\trepair_orders.municipality_id,\\n\\trepair_orders.repair_order_id \\n FROM roads.repair_orders AS repair_orders) AS repair_order ON repair_order_details.repair_order_id = repair_order.repair_order_id \\n GROUP BY  repair_order.hard_hat_id\\n', 'scheduled': '2023-04-08T22:19:44.518281', 'started': '2023-04-08T22:19:44.518493', 'finished': '2023-04-08T22:19:44.608660', 'state': 'FINISHED', 'progress': 1.0, 'output_table': None, 'results': [{'sql': 'SELECT  repair_order.hard_hat_id,\\n\\tsum(repair_order_details.price * repair_order_details.discount) AS total_discount \\n FROM roads.repair_order_details AS repair_order_details LEFT OUTER JOIN (SELECT  repair_orders.dispatcher_id,\\n\\trepair_orders.hard_hat_id,\\n\\trepair_orders.municipality_id,\\n\\trepair_orders.repair_order_id \\n FROM roads.repair_orders AS repair_orders) AS repair_order ON repair_order_details.repair_order_id = repair_order.repair_order_id \\n GROUP BY  repair_order.hard_hat_id\\n', 'columns': [], 'rows': [[1, 49275.99124145508], [2, 7074.269989013672], [3, 103349.70043945312], [4, 78776.46112060547], [5, 60526.530670166016], [6, 17710.829956054688], [7, 4803.659912109375], [8, 39349.44140625], [9, 6337.619934082031]], 'row_count': 9}], 'next': None, 'previous': None, 'errors': []}\n"
     ]
    }
   ],
   "source": [
    "print(response.json())"
   ]
  },
  {
   "cell_type": "code",
   "execution_count": 50,
   "id": "8f141414",
   "metadata": {
    "tags": []
   },
   "outputs": [
    {
     "name": "stdout",
     "output_type": "stream",
     "text": [
      "{'message': 'Incompatible types in binary operation repair_orders.dispatched_date - repair_orders.order_date. Got left date, right date.', 'errors': [], 'warnings': []}\n"
     ]
    }
   ],
   "source": [
    "response = requests.get(\n",
    "    f\"{DJ_URL}/data/avg_time_to_dispatch/?dimensions=hard_hat.state\",\n",
    ")\n",
    "print(response.json())"
   ]
  },
  {
   "cell_type": "code",
   "execution_count": 51,
   "id": "dafd0bf7",
   "metadata": {
    "tags": []
   },
   "outputs": [
    {
     "name": "stdout",
     "output_type": "stream",
     "text": [
      "{'id': '6704cf09-f528-4d12-894d-99bf2f15232d', 'engine_name': 'duckdb', 'engine_version': '0.7.1', 'submitted_query': 'SELECT  avg(repair_order_details.price) AS avg_repair_price,\\n\\trepair_order.municipality_id \\n FROM roads.repair_order_details AS repair_order_details LEFT OUTER JOIN (SELECT  repair_orders.dispatcher_id,\\n\\trepair_orders.hard_hat_id,\\n\\trepair_orders.municipality_id,\\n\\trepair_orders.repair_order_id \\n FROM roads.repair_orders AS repair_orders) AS repair_order ON repair_order_details.repair_order_id = repair_order.repair_order_id \\n GROUP BY  repair_order.municipality_id\\n', 'executed_query': 'SELECT  avg(repair_order_details.price) AS avg_repair_price,\\n\\trepair_order.municipality_id \\n FROM roads.repair_order_details AS repair_order_details LEFT OUTER JOIN (SELECT  repair_orders.dispatcher_id,\\n\\trepair_orders.hard_hat_id,\\n\\trepair_orders.municipality_id,\\n\\trepair_orders.repair_order_id \\n FROM roads.repair_orders AS repair_orders) AS repair_order ON repair_order_details.repair_order_id = repair_order.repair_order_id \\n GROUP BY  repair_order.municipality_id\\n', 'scheduled': '2023-04-08T22:19:50.449735', 'started': '2023-04-08T22:19:50.449989', 'finished': '2023-04-08T22:19:50.536168', 'state': 'FINISHED', 'progress': 1.0, 'output_table': None, 'results': [{'sql': 'SELECT  avg(repair_order_details.price) AS avg_repair_price,\\n\\trepair_order.municipality_id \\n FROM roads.repair_order_details AS repair_order_details LEFT OUTER JOIN (SELECT  repair_orders.dispatcher_id,\\n\\trepair_orders.hard_hat_id,\\n\\trepair_orders.municipality_id,\\n\\trepair_orders.repair_order_id \\n FROM roads.repair_orders AS repair_orders) AS repair_order ON repair_order_details.repair_order_id = repair_order.repair_order_id \\n GROUP BY  repair_order.municipality_id\\n', 'columns': [], 'rows': [[71406.75, 'New York'], [18497.0, 'Dallas'], [76463.0, 'San Antonio'], [59768.57894736842, 'Philadelphia']], 'row_count': 4}], 'next': None, 'previous': None, 'errors': []}\n"
     ]
    }
   ],
   "source": [
    "response = requests.get(\n",
    "    f\"{DJ_URL}/data/avg_repair_price/?dimensions=repair_order.municipality_id\",\n",
    ")\n",
    "print(response.json())"
   ]
  },
  {
   "cell_type": "code",
   "execution_count": null,
   "id": "c3b1b7b7",
   "metadata": {},
   "outputs": [],
   "source": []
  }
 ],
 "metadata": {
  "kernelspec": {
   "display_name": "Python 3 (ipykernel)",
   "language": "python",
   "name": "python3"
  },
  "language_info": {
   "codemirror_mode": {
    "name": "ipython",
    "version": 3
   },
   "file_extension": ".py",
   "mimetype": "text/x-python",
   "name": "python",
   "nbconvert_exporter": "python",
   "pygments_lexer": "ipython3",
   "version": "3.10.10"
  }
 },
 "nbformat": 4,
 "nbformat_minor": 5
}
