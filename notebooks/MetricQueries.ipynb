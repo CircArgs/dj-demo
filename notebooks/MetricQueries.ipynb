{
 "cells": [
  {
   "cell_type": "code",
   "execution_count": 2,
   "id": "54718ccd-f77c-42eb-adce-a634d86d071e",
   "metadata": {
    "tags": []
   },
   "outputs": [],
   "source": [
    "import requests\n",
    "import pprint\n",
    "import json\n",
    "\n",
    "DJ_URL = f\"http://dj:8000\"\n",
    "DJQS_URL = \"http://djqs:8001\"\n",
    "\n",
    "pp = pprint.PrettyPrinter(indent=2)"
   ]
  },
  {
   "cell_type": "code",
   "execution_count": 2,
   "id": "b62e30c4-996f-48bc-8983-6da2c7052207",
   "metadata": {
    "tags": []
   },
   "outputs": [
    {
     "name": "stdout",
     "output_type": "stream",
     "text": [
      "[ 'num_repair_orders',\n",
      "  'avg_repair_price',\n",
      "  'total_repair_cost',\n",
      "  'avg_length_of_employment',\n",
      "  'total_repair_order_discounts',\n",
      "  'avg_repair_order_discounts',\n",
      "  'avg_time_to_dispatch']\n"
     ]
    }
   ],
   "source": [
    "response = requests.get(\n",
    "    f\"{DJ_URL}/metrics/\",\n",
    ")\n",
    "pp.pprint([m[\"name\"] for m in response.json()])"
   ]
  },
  {
   "cell_type": "code",
   "execution_count": 3,
   "id": "6d919bc7-b5f6-4193-bc82-06dbcb59227c",
   "metadata": {
    "tags": []
   },
   "outputs": [
    {
     "name": "stdout",
     "output_type": "stream",
     "text": [
      "{ 'created_at': '2023-04-08T15:29:38.121587+00:00',\n",
      "  'current_version': 'v1.0',\n",
      "  'description': 'Average repair price',\n",
      "  'dimensions': [ 'dispatcher.company_name',\n",
      "                  'dispatcher.dispatcher_id',\n",
      "                  'dispatcher.phone',\n",
      "                  'hard_hat.address',\n",
      "                  'hard_hat.birth_date',\n",
      "                  'hard_hat.city',\n",
      "                  'hard_hat.contractor_id',\n",
      "                  'hard_hat.country',\n",
      "                  'hard_hat.first_name',\n",
      "                  'hard_hat.hard_hat_id',\n",
      "                  'hard_hat.hire_date',\n",
      "                  'hard_hat.last_name',\n",
      "                  'hard_hat.manager',\n",
      "                  'hard_hat.postal_code',\n",
      "                  'hard_hat.state',\n",
      "                  'hard_hat.title',\n",
      "                  'municipality_dim.contact_name',\n",
      "                  'municipality_dim.contact_title',\n",
      "                  'municipality_dim.local_region',\n",
      "                  'municipality_dim.municipality_id',\n",
      "                  'municipality_dim.municipality_type_desc',\n",
      "                  'municipality_dim.municipality_type_id',\n",
      "                  'municipality_dim.state_id',\n",
      "                  'repair_order.dispatcher_id',\n",
      "                  'repair_order.hard_hat_id',\n",
      "                  'repair_order.municipality_id',\n",
      "                  'repair_order.repair_order_id',\n",
      "                  'us_state.state_abbr',\n",
      "                  'us_state.state_id',\n",
      "                  'us_state.state_name',\n",
      "                  'us_state.state_region',\n",
      "                  'us_state.state_region_description'],\n",
      "  'display_name': 'Avg Repair Price',\n",
      "  'id': 22,\n",
      "  'name': 'avg_repair_price',\n",
      "  'query': 'SELECT avg(price) as avg_repair_price FROM repair_order_details',\n",
      "  'updated_at': '2023-04-08T15:29:38.122358+00:00'}\n"
     ]
    }
   ],
   "source": [
    "response = requests.get(\n",
    "    f\"{DJ_URL}/metrics/avg_repair_price/\",\n",
    ")\n",
    "pp.pprint(response.json())"
   ]
  },
  {
   "cell_type": "code",
   "execution_count": 4,
   "id": "39378c97-d2da-4d9e-aed7-7eee7c82fee4",
   "metadata": {
    "tags": []
   },
   "outputs": [
    {
     "name": "stdout",
     "output_type": "stream",
     "text": [
      "SELECT  avg(repair_order_details.price) AS avg_repair_price,\n",
      "\tus_state.state_name \n",
      " FROM roads.repair_order_details AS repair_order_details LEFT OUTER JOIN roads.repair_order_materialization_123 AS repair_order ON repair_order_details.repair_order_id = repair_order.repair_order_id\n",
      "LEFT OUTER JOIN (SELECT  hard_hats.address,\n",
      "\thard_hats.birth_date,\n",
      "\thard_hats.city,\n",
      "\thard_hats.contractor_id,\n",
      "\thard_hats.country,\n",
      "\thard_hats.first_name,\n",
      "\thard_hats.hard_hat_id,\n",
      "\thard_hats.hire_date,\n",
      "\thard_hats.last_name,\n",
      "\thard_hats.manager,\n",
      "\thard_hats.postal_code,\n",
      "\thard_hats.state,\n",
      "\thard_hats.title \n",
      " FROM roads.hard_hats AS hard_hats) AS hard_hat ON repair_order.hard_hat_id = hard_hat.hard_hat_id\n",
      "LEFT OUTER JOIN (SELECT  us_states.state_abbr,\n",
      "\tus_states.state_id,\n",
      "\tus_states.state_name,\n",
      "\tus_states.state_region,\n",
      "\tus_region.us_region_description AS state_region_description \n",
      " FROM roads.us_states AS us_states LEFT  JOIN roads.us_region AS us_region ON us_states.state_region = us_region.us_region_id) AS us_state ON hard_hat.state = us_state.state_abbr \n",
      " GROUP BY  us_state.state_name\n",
      "\n"
     ]
    }
   ],
   "source": [
    "response = requests.get(\n",
    "    f\"{DJ_URL}/sql/avg_repair_price/?dimensions=us_state.state_name\",\n",
    ")\n",
    "print(response.json()[\"sql\"])"
   ]
  },
  {
   "cell_type": "code",
   "execution_count": 8,
   "id": "bbbe3e67-a696-4a22-927b-d090afbbdad3",
   "metadata": {
    "tags": []
   },
   "outputs": [
    {
     "name": "stdout",
     "output_type": "stream",
     "text": [
      "[]\n"
     ]
    }
   ],
   "source": [
    "response = requests.get(\n",
    "    f\"{DJ_URL}/data/avg_repair_price/?dimensions=us_state.state_name\",\n",
    ")\n",
    "pp.pprint(response.json()[\"results\"])"
   ]
  },
  {
   "cell_type": "code",
   "execution_count": 9,
   "id": "04bdf177",
   "metadata": {},
   "outputs": [
    {
     "data": {
      "text/plain": [
       "{'id': '4889e3f9-768b-4425-93e5-3b77facc0502',\n",
       " 'engine_name': 'duckdb',\n",
       " 'engine_version': '0.7.1',\n",
       " 'submitted_query': 'SELECT  avg(repair_order_details.price) AS avg_repair_price,\\n\\tus_state.state_name \\n FROM roads.repair_order_details AS repair_order_details LEFT OUTER JOIN roads.repair_order_materialization_123 AS repair_order ON repair_order_details.repair_order_id = repair_order.repair_order_id\\nLEFT OUTER JOIN (SELECT  hard_hats.address,\\n\\thard_hats.birth_date,\\n\\thard_hats.city,\\n\\thard_hats.contractor_id,\\n\\thard_hats.country,\\n\\thard_hats.first_name,\\n\\thard_hats.hard_hat_id,\\n\\thard_hats.hire_date,\\n\\thard_hats.last_name,\\n\\thard_hats.manager,\\n\\thard_hats.postal_code,\\n\\thard_hats.state,\\n\\thard_hats.title \\n FROM roads.hard_hats AS hard_hats) AS hard_hat ON repair_order.hard_hat_id = hard_hat.hard_hat_id\\nLEFT OUTER JOIN (SELECT  us_states.state_abbr,\\n\\tus_states.state_id,\\n\\tus_states.state_name,\\n\\tus_states.state_region,\\n\\tus_region.us_region_description AS state_region_description \\n FROM roads.us_states AS us_states LEFT  JOIN roads.us_region AS us_region ON us_states.state_region = us_region.us_region_id) AS us_state ON hard_hat.state = us_state.state_abbr \\n GROUP BY  us_state.state_name\\n',\n",
       " 'executed_query': 'SELECT  avg(repair_order_details.price) AS avg_repair_price,\\n\\tus_state.state_name \\n FROM roads.repair_order_details AS repair_order_details LEFT OUTER JOIN roads.repair_order_materialization_123 AS repair_order ON repair_order_details.repair_order_id = repair_order.repair_order_id\\nLEFT OUTER JOIN (SELECT  hard_hats.address,\\n\\thard_hats.birth_date,\\n\\thard_hats.city,\\n\\thard_hats.contractor_id,\\n\\thard_hats.country,\\n\\thard_hats.first_name,\\n\\thard_hats.hard_hat_id,\\n\\thard_hats.hire_date,\\n\\thard_hats.last_name,\\n\\thard_hats.manager,\\n\\thard_hats.postal_code,\\n\\thard_hats.state,\\n\\thard_hats.title \\n FROM roads.hard_hats AS hard_hats) AS hard_hat ON repair_order.hard_hat_id = hard_hat.hard_hat_id\\nLEFT OUTER JOIN (SELECT  us_states.state_abbr,\\n\\tus_states.state_id,\\n\\tus_states.state_name,\\n\\tus_states.state_region,\\n\\tus_region.us_region_description AS state_region_description \\n FROM roads.us_states AS us_states LEFT  JOIN roads.us_region AS us_region ON us_states.state_region = us_region.us_region_id) AS us_state ON hard_hat.state = us_state.state_abbr \\n GROUP BY  us_state.state_name\\n',\n",
       " 'scheduled': '2023-04-08T22:15:34.503487',\n",
       " 'started': '2023-04-08T22:15:34.503713',\n",
       " 'finished': '2023-04-08T22:15:34.742764',\n",
       " 'state': 'FAILED',\n",
       " 'progress': 0.0,\n",
       " 'output_table': None,\n",
       " 'results': [],\n",
       " 'next': None,\n",
       " 'previous': None,\n",
       " 'errors': ['Catalog Error: Table with name repair_order_materialization_123 does not exist!\\nDid you mean \"repair_order_details\"?']}"
      ]
     },
     "execution_count": 9,
     "metadata": {},
     "output_type": "execute_result"
    }
   ],
   "source": [
    "response.json()"
   ]
  },
  {
   "cell_type": "code",
   "execution_count": 6,
   "id": "07103157-111f-46c9-8bcb-8e6b9534b1aa",
   "metadata": {
    "tags": []
   },
   "outputs": [
    {
     "name": "stdout",
     "output_type": "stream",
     "text": [
      "[]\n"
     ]
    }
   ],
   "source": [
    "response = requests.get(\n",
    "    f\"{DJ_URL}/data/avg_repair_price/\",\n",
    "    params={\n",
    "        \"dimensions\": \"dispatcher.company_name\",\n",
    "        \"filters\": \"dispatcher.company_name = 'Pothole Pete'\",\n",
    "    },\n",
    ")\n",
    "pp.pprint(response.json()[\"results\"])"
   ]
  },
  {
   "cell_type": "code",
   "execution_count": 7,
   "id": "4031707c-bbdf-41b1-a9f8-341434fca6c5",
   "metadata": {},
   "outputs": [
    {
     "data": {
      "text/plain": [
       "{'id': 'b53f419f-7558-4f1c-a7e5-e93f8f4410f1',\n",
       " 'engine_name': 'duckdb',\n",
       " 'engine_version': '0.7.1',\n",
       " 'submitted_query': \"SELECT  avg(repair_order_details.price) AS avg_repair_price,\\n\\tdispatcher.company_name \\n FROM roads.repair_order_details AS repair_order_details LEFT OUTER JOIN roads.repair_order_materialization_123 AS repair_order ON repair_order_details.repair_order_id = repair_order.repair_order_id\\nLEFT OUTER JOIN (SELECT  dispatchers.company_name,\\n\\tdispatchers.dispatcher_id,\\n\\tdispatchers.phone \\n FROM roads.dispatchers AS dispatchers) AS dispatcher ON repair_order.dispatcher_id = dispatcher.dispatcher_id \\n WHERE  dispatcher.company_name = 'Pothole Pete' \\n GROUP BY  dispatcher.company_name\\n\",\n",
       " 'executed_query': \"SELECT  avg(repair_order_details.price) AS avg_repair_price,\\n\\tdispatcher.company_name \\n FROM roads.repair_order_details AS repair_order_details LEFT OUTER JOIN roads.repair_order_materialization_123 AS repair_order ON repair_order_details.repair_order_id = repair_order.repair_order_id\\nLEFT OUTER JOIN (SELECT  dispatchers.company_name,\\n\\tdispatchers.dispatcher_id,\\n\\tdispatchers.phone \\n FROM roads.dispatchers AS dispatchers) AS dispatcher ON repair_order.dispatcher_id = dispatcher.dispatcher_id \\n WHERE  dispatcher.company_name = 'Pothole Pete' \\n GROUP BY  dispatcher.company_name\\n\",\n",
       " 'scheduled': '2023-04-08T22:12:31.851628',\n",
       " 'started': '2023-04-08T22:12:31.851911',\n",
       " 'finished': '2023-04-08T22:12:32.095766',\n",
       " 'state': 'FAILED',\n",
       " 'progress': 0.0,\n",
       " 'output_table': None,\n",
       " 'results': [],\n",
       " 'next': None,\n",
       " 'previous': None,\n",
       " 'errors': ['Catalog Error: Table with name repair_order_materialization_123 does not exist!\\nDid you mean \"repair_order_details\"?']}"
      ]
     },
     "execution_count": 7,
     "metadata": {},
     "output_type": "execute_result"
    }
   ],
   "source": [
    "response.json()"
   ]
  },
  {
   "cell_type": "code",
   "execution_count": 3,
   "id": "003123d9",
   "metadata": {},
   "outputs": [
    {
     "data": {
      "text/plain": [
       "{'id': '7adca0c2-d158-4aae-9e51-5aff438ccbb8',\n",
       " 'engine_name': 'duckdb',\n",
       " 'engine_version': '0.7.1',\n",
       " 'submitted_query': 'SELECT  avg(repair_order_details.price) AS avg_repair_price,\\n\\tdispatcher.company_name,\\n\\tdispatcher.dispatcher_id,\\n\\thard_hat.hard_hat_id \\n FROM roads.repair_order_details AS repair_order_details LEFT OUTER JOIN (SELECT  repair_orders.dispatcher_id,\\n\\trepair_orders.hard_hat_id,\\n\\trepair_orders.municipality_id,\\n\\trepair_orders.repair_order_id \\n FROM roads.repair_orders AS repair_orders) AS repair_order ON repair_order_details.repair_order_id = repair_order.repair_order_id\\nLEFT OUTER JOIN (SELECT  dispatchers.company_name,\\n\\tdispatchers.dispatcher_id,\\n\\tdispatchers.phone \\n FROM roads.dispatchers AS dispatchers) AS dispatcher ON repair_order.dispatcher_id = dispatcher.dispatcher_id\\nLEFT OUTER JOIN (SELECT  hard_hats.address,\\n\\thard_hats.birth_date,\\n\\thard_hats.city,\\n\\thard_hats.contractor_id,\\n\\thard_hats.country,\\n\\thard_hats.first_name,\\n\\thard_hats.hard_hat_id,\\n\\thard_hats.hire_date,\\n\\thard_hats.last_name,\\n\\thard_hats.manager,\\n\\thard_hats.postal_code,\\n\\thard_hats.state,\\n\\thard_hats.title \\n FROM roads.hard_hats AS hard_hats) AS hard_hat ON repair_order.hard_hat_id = hard_hat.hard_hat_id \\n WHERE  None \\n GROUP BY  dispatcher.company_name, dispatcher.dispatcher_id, hard_hat.hard_hat_id\\n',\n",
       " 'executed_query': 'SELECT  avg(repair_order_details.price) AS avg_repair_price,\\n\\tdispatcher.company_name,\\n\\tdispatcher.dispatcher_id,\\n\\thard_hat.hard_hat_id \\n FROM roads.repair_order_details AS repair_order_details LEFT OUTER JOIN (SELECT  repair_orders.dispatcher_id,\\n\\trepair_orders.hard_hat_id,\\n\\trepair_orders.municipality_id,\\n\\trepair_orders.repair_order_id \\n FROM roads.repair_orders AS repair_orders) AS repair_order ON repair_order_details.repair_order_id = repair_order.repair_order_id\\nLEFT OUTER JOIN (SELECT  dispatchers.company_name,\\n\\tdispatchers.dispatcher_id,\\n\\tdispatchers.phone \\n FROM roads.dispatchers AS dispatchers) AS dispatcher ON repair_order.dispatcher_id = dispatcher.dispatcher_id\\nLEFT OUTER JOIN (SELECT  hard_hats.address,\\n\\thard_hats.birth_date,\\n\\thard_hats.city,\\n\\thard_hats.contractor_id,\\n\\thard_hats.country,\\n\\thard_hats.first_name,\\n\\thard_hats.hard_hat_id,\\n\\thard_hats.hire_date,\\n\\thard_hats.last_name,\\n\\thard_hats.manager,\\n\\thard_hats.postal_code,\\n\\thard_hats.state,\\n\\thard_hats.title \\n FROM roads.hard_hats AS hard_hats) AS hard_hat ON repair_order.hard_hat_id = hard_hat.hard_hat_id \\n WHERE  None \\n GROUP BY  dispatcher.company_name, dispatcher.dispatcher_id, hard_hat.hard_hat_id\\n',\n",
       " 'scheduled': '2023-04-08T22:38:11.672111',\n",
       " 'started': '2023-04-08T22:38:11.672299',\n",
       " 'finished': '2023-04-08T22:38:11.739485',\n",
       " 'state': 'FAILED',\n",
       " 'progress': 0.0,\n",
       " 'output_table': None,\n",
       " 'results': [],\n",
       " 'next': None,\n",
       " 'previous': None,\n",
       " 'errors': ['Binder Error: Referenced column \"None\" not found in FROM clause!\\nCandidate bindings: \"dispatcher.phone\"\\nLINE 28:  WHERE  None \\n                 ^']}"
      ]
     },
     "execution_count": 3,
     "metadata": {},
     "output_type": "execute_result"
    }
   ],
   "source": [
    "requests.get('http://dj:8000/data/avg_repair_price/?dimensions=dispatcher.company_name, dispatcher.dispatcher_id, hard_hat.hard_hat_id&filters=None').json()"
   ]
  },
  {
   "cell_type": "code",
   "execution_count": null,
   "id": "0a0b1da9",
   "metadata": {},
   "outputs": [],
   "source": []
  }
 ],
 "metadata": {
  "kernelspec": {
   "display_name": "Python 3 (ipykernel)",
   "language": "python",
   "name": "python3"
  },
  "language_info": {
   "codemirror_mode": {
    "name": "ipython",
    "version": 3
   },
   "file_extension": ".py",
   "mimetype": "text/x-python",
   "name": "python",
   "nbconvert_exporter": "python",
   "pygments_lexer": "ipython3",
   "version": "3.10.10"
  }
 },
 "nbformat": 4,
 "nbformat_minor": 5
}
